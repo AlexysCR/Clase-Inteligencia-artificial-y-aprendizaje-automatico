{
  "cells": [
    {
      "cell_type": "markdown",
      "metadata": {
        "id": "dBbWMn9ebmi8"
      },
      "source": [
        "# **Maestría en Inteligencia Artificial Aplicada**\n",
        "\n",
        "## **Curso: Inteligencia Artificial y Aprendizaje Automático**\n",
        "\n",
        "### Tecnológico de Monterrey\n",
        "\n",
        "### Prof Luis Eduardo Falcón Morales\n",
        "\n",
        "## **Actividad de las Semanas 5 y 6**\n",
        "### **Problema de asignación de créditos: South German Dataset.**\n"
      ]
    },
    {
      "cell_type": "markdown",
      "metadata": {
        "id": "YiwEw8XsZG2W"
      },
      "source": [
        "## **Nombres y matrículas:**\n",
        "\n",
        "\n",
        "\n",
        "*   Alexys Martín Coate Reyes   -   A01746998\n",
        "\n",
        "*   Nombre y matrícula\n",
        "\n",
        "*   Nombre y matrícula\n",
        "\n"
      ]
    },
    {
      "cell_type": "markdown",
      "metadata": {
        "id": "a08Di3GjkL1Y"
      },
      "source": [
        "## **Ejercicio 1**"
      ]
    },
    {
      "cell_type": "code",
      "execution_count": 41,
      "metadata": {
        "id": "6VGEpE4SblfD",
        "colab": {
          "base_uri": "https://localhost:8080/"
        },
        "outputId": "962ce036-e6d5-4c40-9d20-217d496298ef"
      },
      "outputs": [
        {
          "output_type": "stream",
          "name": "stdout",
          "text": [
            "Requirement already satisfied: deep-translator in /usr/local/lib/python3.11/dist-packages (1.11.4)\n",
            "Requirement already satisfied: beautifulsoup4<5.0.0,>=4.9.1 in /usr/local/lib/python3.11/dist-packages (from deep-translator) (4.13.3)\n",
            "Requirement already satisfied: requests<3.0.0,>=2.23.0 in /usr/local/lib/python3.11/dist-packages (from deep-translator) (2.32.3)\n",
            "Requirement already satisfied: soupsieve>1.2 in /usr/local/lib/python3.11/dist-packages (from beautifulsoup4<5.0.0,>=4.9.1->deep-translator) (2.6)\n",
            "Requirement already satisfied: typing-extensions>=4.0.0 in /usr/local/lib/python3.11/dist-packages (from beautifulsoup4<5.0.0,>=4.9.1->deep-translator) (4.12.2)\n",
            "Requirement already satisfied: charset-normalizer<4,>=2 in /usr/local/lib/python3.11/dist-packages (from requests<3.0.0,>=2.23.0->deep-translator) (3.4.1)\n",
            "Requirement already satisfied: idna<4,>=2.5 in /usr/local/lib/python3.11/dist-packages (from requests<3.0.0,>=2.23.0->deep-translator) (3.10)\n",
            "Requirement already satisfied: urllib3<3,>=1.21.1 in /usr/local/lib/python3.11/dist-packages (from requests<3.0.0,>=2.23.0->deep-translator) (2.3.0)\n",
            "Requirement already satisfied: certifi>=2017.4.17 in /usr/local/lib/python3.11/dist-packages (from requests<3.0.0,>=2.23.0->deep-translator) (2025.1.31)\n"
          ]
        }
      ],
      "source": [
        "# Aquí deberás incluir todas las librerías que requieras durante esta actividad:\n",
        "\n",
        "import numpy as np\n",
        "import pandas as pd\n",
        "\n",
        "import matplotlib\n",
        "import matplotlib.pyplot as plt\n",
        "import seaborn as sns\n",
        "\n",
        "import sklearn\n",
        "from sklearn.linear_model import LogisticRegression\n",
        "\n",
        "from sklearn.tree import DecisionTreeClassifier\n",
        "from sklearn.ensemble import RandomForestClassifier\n",
        "\n",
        "from sklearn.datasets import load_iris\n",
        "\n",
        "from sklearn.model_selection import train_test_split\n",
        "from sklearn.metrics import confusion_matrix\n",
        "\n",
        "import matplotlib.pyplot as plt\n",
        "import xgboost\n",
        "\n",
        "# Libreria para traducir\n",
        "!pip install deep-translator\n",
        "from deep_translator import GoogleTranslator\n",
        "\n"
      ]
    },
    {
      "cell_type": "code",
      "source": [
        "# Verificando versiones de algunas de las principales librerías.\n",
        "# Si algunas no se utilizan, puedes comentarlas.\n",
        "tmp = !python -V\n",
        "print(tmp[0])\n",
        "print('Numpy', np.__version__)\n",
        "print('Pandas', pd.__version__)\n",
        "print('Matplotlib', matplotlib.__version__)\n",
        "print('Seaborn', sns.__version__)\n",
        "print('Scikit-Learn', sklearn.__version__)\n",
        "print('XGBoost', xgboost.__version__)\n",
        "\n",
        "# puedes incluir algunas otras ...\n"
      ],
      "metadata": {
        "id": "gOp4tFv4Q2PX",
        "colab": {
          "base_uri": "https://localhost:8080/"
        },
        "outputId": "2b72815c-417e-481b-ff40-2b6e2eac2628"
      },
      "execution_count": 42,
      "outputs": [
        {
          "output_type": "stream",
          "name": "stdout",
          "text": [
            "Python 3.11.11\n",
            "Numpy 1.26.4\n",
            "Pandas 2.2.2\n",
            "Matplotlib 3.10.0\n",
            "Seaborn 0.13.2\n",
            "Scikit-Learn 1.6.1\n",
            "XGBoost 2.1.4\n"
          ]
        }
      ]
    },
    {
      "cell_type": "code",
      "execution_count": 43,
      "metadata": {
        "id": "K3gUzoM3iRkt"
      },
      "outputs": [],
      "source": [
        "# Si deseas desplegar los Warnings:\n",
        "#import warnings\n",
        "#warnings.filterwarnings('ignore')"
      ]
    },
    {
      "cell_type": "code",
      "execution_count": 44,
      "metadata": {
        "id": "ppyf8TTgb9zq",
        "colab": {
          "base_uri": "https://localhost:8080/",
          "height": 725
        },
        "outputId": "93cbed8e-3f56-4c05-edc3-04399d403aa1"
      },
      "outputs": [
        {
          "output_type": "stream",
          "name": "stdout",
          "text": [
            "Dimensión del DataFrame (registros,variables): (1000, 21)\n"
          ]
        },
        {
          "output_type": "execute_result",
          "data": {
            "text/plain": [
              "             0     1    2\n",
              "laufkont     1     1    2\n",
              "laufzeit    18     9   12\n",
              "moral        4     4    2\n",
              "verw         2     0    9\n",
              "hoehe     1049  2799  841\n",
              "sparkont     1     1    2\n",
              "beszeit      2     3    4\n",
              "rate         4     2    2\n",
              "famges       2     3    2\n",
              "buerge       1     1    1\n",
              "wohnzeit     4     2    4\n",
              "verm         2     1    1\n",
              "alter       21    36   23\n",
              "weitkred     3     3    3\n",
              "wohn         1     1    1\n",
              "bishkred     1     2    1\n",
              "beruf        3     3    2\n",
              "pers         2     1    2\n",
              "telef        1     1    1\n",
              "gastarb      2     2    2\n",
              "kredit       1     1    1"
            ],
            "text/html": [
              "\n",
              "  <div id=\"df-9089a654-2c10-46ab-be5b-7862d2ec98ff\" class=\"colab-df-container\">\n",
              "    <div>\n",
              "<style scoped>\n",
              "    .dataframe tbody tr th:only-of-type {\n",
              "        vertical-align: middle;\n",
              "    }\n",
              "\n",
              "    .dataframe tbody tr th {\n",
              "        vertical-align: top;\n",
              "    }\n",
              "\n",
              "    .dataframe thead th {\n",
              "        text-align: right;\n",
              "    }\n",
              "</style>\n",
              "<table border=\"1\" class=\"dataframe\">\n",
              "  <thead>\n",
              "    <tr style=\"text-align: right;\">\n",
              "      <th></th>\n",
              "      <th>0</th>\n",
              "      <th>1</th>\n",
              "      <th>2</th>\n",
              "    </tr>\n",
              "  </thead>\n",
              "  <tbody>\n",
              "    <tr>\n",
              "      <th>laufkont</th>\n",
              "      <td>1</td>\n",
              "      <td>1</td>\n",
              "      <td>2</td>\n",
              "    </tr>\n",
              "    <tr>\n",
              "      <th>laufzeit</th>\n",
              "      <td>18</td>\n",
              "      <td>9</td>\n",
              "      <td>12</td>\n",
              "    </tr>\n",
              "    <tr>\n",
              "      <th>moral</th>\n",
              "      <td>4</td>\n",
              "      <td>4</td>\n",
              "      <td>2</td>\n",
              "    </tr>\n",
              "    <tr>\n",
              "      <th>verw</th>\n",
              "      <td>2</td>\n",
              "      <td>0</td>\n",
              "      <td>9</td>\n",
              "    </tr>\n",
              "    <tr>\n",
              "      <th>hoehe</th>\n",
              "      <td>1049</td>\n",
              "      <td>2799</td>\n",
              "      <td>841</td>\n",
              "    </tr>\n",
              "    <tr>\n",
              "      <th>sparkont</th>\n",
              "      <td>1</td>\n",
              "      <td>1</td>\n",
              "      <td>2</td>\n",
              "    </tr>\n",
              "    <tr>\n",
              "      <th>beszeit</th>\n",
              "      <td>2</td>\n",
              "      <td>3</td>\n",
              "      <td>4</td>\n",
              "    </tr>\n",
              "    <tr>\n",
              "      <th>rate</th>\n",
              "      <td>4</td>\n",
              "      <td>2</td>\n",
              "      <td>2</td>\n",
              "    </tr>\n",
              "    <tr>\n",
              "      <th>famges</th>\n",
              "      <td>2</td>\n",
              "      <td>3</td>\n",
              "      <td>2</td>\n",
              "    </tr>\n",
              "    <tr>\n",
              "      <th>buerge</th>\n",
              "      <td>1</td>\n",
              "      <td>1</td>\n",
              "      <td>1</td>\n",
              "    </tr>\n",
              "    <tr>\n",
              "      <th>wohnzeit</th>\n",
              "      <td>4</td>\n",
              "      <td>2</td>\n",
              "      <td>4</td>\n",
              "    </tr>\n",
              "    <tr>\n",
              "      <th>verm</th>\n",
              "      <td>2</td>\n",
              "      <td>1</td>\n",
              "      <td>1</td>\n",
              "    </tr>\n",
              "    <tr>\n",
              "      <th>alter</th>\n",
              "      <td>21</td>\n",
              "      <td>36</td>\n",
              "      <td>23</td>\n",
              "    </tr>\n",
              "    <tr>\n",
              "      <th>weitkred</th>\n",
              "      <td>3</td>\n",
              "      <td>3</td>\n",
              "      <td>3</td>\n",
              "    </tr>\n",
              "    <tr>\n",
              "      <th>wohn</th>\n",
              "      <td>1</td>\n",
              "      <td>1</td>\n",
              "      <td>1</td>\n",
              "    </tr>\n",
              "    <tr>\n",
              "      <th>bishkred</th>\n",
              "      <td>1</td>\n",
              "      <td>2</td>\n",
              "      <td>1</td>\n",
              "    </tr>\n",
              "    <tr>\n",
              "      <th>beruf</th>\n",
              "      <td>3</td>\n",
              "      <td>3</td>\n",
              "      <td>2</td>\n",
              "    </tr>\n",
              "    <tr>\n",
              "      <th>pers</th>\n",
              "      <td>2</td>\n",
              "      <td>1</td>\n",
              "      <td>2</td>\n",
              "    </tr>\n",
              "    <tr>\n",
              "      <th>telef</th>\n",
              "      <td>1</td>\n",
              "      <td>1</td>\n",
              "      <td>1</td>\n",
              "    </tr>\n",
              "    <tr>\n",
              "      <th>gastarb</th>\n",
              "      <td>2</td>\n",
              "      <td>2</td>\n",
              "      <td>2</td>\n",
              "    </tr>\n",
              "    <tr>\n",
              "      <th>kredit</th>\n",
              "      <td>1</td>\n",
              "      <td>1</td>\n",
              "      <td>1</td>\n",
              "    </tr>\n",
              "  </tbody>\n",
              "</table>\n",
              "</div>\n",
              "    <div class=\"colab-df-buttons\">\n",
              "\n",
              "  <div class=\"colab-df-container\">\n",
              "    <button class=\"colab-df-convert\" onclick=\"convertToInteractive('df-9089a654-2c10-46ab-be5b-7862d2ec98ff')\"\n",
              "            title=\"Convert this dataframe to an interactive table.\"\n",
              "            style=\"display:none;\">\n",
              "\n",
              "  <svg xmlns=\"http://www.w3.org/2000/svg\" height=\"24px\" viewBox=\"0 -960 960 960\">\n",
              "    <path d=\"M120-120v-720h720v720H120Zm60-500h600v-160H180v160Zm220 220h160v-160H400v160Zm0 220h160v-160H400v160ZM180-400h160v-160H180v160Zm440 0h160v-160H620v160ZM180-180h160v-160H180v160Zm440 0h160v-160H620v160Z\"/>\n",
              "  </svg>\n",
              "    </button>\n",
              "\n",
              "  <style>\n",
              "    .colab-df-container {\n",
              "      display:flex;\n",
              "      gap: 12px;\n",
              "    }\n",
              "\n",
              "    .colab-df-convert {\n",
              "      background-color: #E8F0FE;\n",
              "      border: none;\n",
              "      border-radius: 50%;\n",
              "      cursor: pointer;\n",
              "      display: none;\n",
              "      fill: #1967D2;\n",
              "      height: 32px;\n",
              "      padding: 0 0 0 0;\n",
              "      width: 32px;\n",
              "    }\n",
              "\n",
              "    .colab-df-convert:hover {\n",
              "      background-color: #E2EBFA;\n",
              "      box-shadow: 0px 1px 2px rgba(60, 64, 67, 0.3), 0px 1px 3px 1px rgba(60, 64, 67, 0.15);\n",
              "      fill: #174EA6;\n",
              "    }\n",
              "\n",
              "    .colab-df-buttons div {\n",
              "      margin-bottom: 4px;\n",
              "    }\n",
              "\n",
              "    [theme=dark] .colab-df-convert {\n",
              "      background-color: #3B4455;\n",
              "      fill: #D2E3FC;\n",
              "    }\n",
              "\n",
              "    [theme=dark] .colab-df-convert:hover {\n",
              "      background-color: #434B5C;\n",
              "      box-shadow: 0px 1px 3px 1px rgba(0, 0, 0, 0.15);\n",
              "      filter: drop-shadow(0px 1px 2px rgba(0, 0, 0, 0.3));\n",
              "      fill: #FFFFFF;\n",
              "    }\n",
              "  </style>\n",
              "\n",
              "    <script>\n",
              "      const buttonEl =\n",
              "        document.querySelector('#df-9089a654-2c10-46ab-be5b-7862d2ec98ff button.colab-df-convert');\n",
              "      buttonEl.style.display =\n",
              "        google.colab.kernel.accessAllowed ? 'block' : 'none';\n",
              "\n",
              "      async function convertToInteractive(key) {\n",
              "        const element = document.querySelector('#df-9089a654-2c10-46ab-be5b-7862d2ec98ff');\n",
              "        const dataTable =\n",
              "          await google.colab.kernel.invokeFunction('convertToInteractive',\n",
              "                                                    [key], {});\n",
              "        if (!dataTable) return;\n",
              "\n",
              "        const docLinkHtml = 'Like what you see? Visit the ' +\n",
              "          '<a target=\"_blank\" href=https://colab.research.google.com/notebooks/data_table.ipynb>data table notebook</a>'\n",
              "          + ' to learn more about interactive tables.';\n",
              "        element.innerHTML = '';\n",
              "        dataTable['output_type'] = 'display_data';\n",
              "        await google.colab.output.renderOutput(dataTable, element);\n",
              "        const docLink = document.createElement('div');\n",
              "        docLink.innerHTML = docLinkHtml;\n",
              "        element.appendChild(docLink);\n",
              "      }\n",
              "    </script>\n",
              "  </div>\n",
              "\n",
              "\n",
              "<div id=\"df-4142b211-a388-470f-88e4-bc7be39bb90c\">\n",
              "  <button class=\"colab-df-quickchart\" onclick=\"quickchart('df-4142b211-a388-470f-88e4-bc7be39bb90c')\"\n",
              "            title=\"Suggest charts\"\n",
              "            style=\"display:none;\">\n",
              "\n",
              "<svg xmlns=\"http://www.w3.org/2000/svg\" height=\"24px\"viewBox=\"0 0 24 24\"\n",
              "     width=\"24px\">\n",
              "    <g>\n",
              "        <path d=\"M19 3H5c-1.1 0-2 .9-2 2v14c0 1.1.9 2 2 2h14c1.1 0 2-.9 2-2V5c0-1.1-.9-2-2-2zM9 17H7v-7h2v7zm4 0h-2V7h2v10zm4 0h-2v-4h2v4z\"/>\n",
              "    </g>\n",
              "</svg>\n",
              "  </button>\n",
              "\n",
              "<style>\n",
              "  .colab-df-quickchart {\n",
              "      --bg-color: #E8F0FE;\n",
              "      --fill-color: #1967D2;\n",
              "      --hover-bg-color: #E2EBFA;\n",
              "      --hover-fill-color: #174EA6;\n",
              "      --disabled-fill-color: #AAA;\n",
              "      --disabled-bg-color: #DDD;\n",
              "  }\n",
              "\n",
              "  [theme=dark] .colab-df-quickchart {\n",
              "      --bg-color: #3B4455;\n",
              "      --fill-color: #D2E3FC;\n",
              "      --hover-bg-color: #434B5C;\n",
              "      --hover-fill-color: #FFFFFF;\n",
              "      --disabled-bg-color: #3B4455;\n",
              "      --disabled-fill-color: #666;\n",
              "  }\n",
              "\n",
              "  .colab-df-quickchart {\n",
              "    background-color: var(--bg-color);\n",
              "    border: none;\n",
              "    border-radius: 50%;\n",
              "    cursor: pointer;\n",
              "    display: none;\n",
              "    fill: var(--fill-color);\n",
              "    height: 32px;\n",
              "    padding: 0;\n",
              "    width: 32px;\n",
              "  }\n",
              "\n",
              "  .colab-df-quickchart:hover {\n",
              "    background-color: var(--hover-bg-color);\n",
              "    box-shadow: 0 1px 2px rgba(60, 64, 67, 0.3), 0 1px 3px 1px rgba(60, 64, 67, 0.15);\n",
              "    fill: var(--button-hover-fill-color);\n",
              "  }\n",
              "\n",
              "  .colab-df-quickchart-complete:disabled,\n",
              "  .colab-df-quickchart-complete:disabled:hover {\n",
              "    background-color: var(--disabled-bg-color);\n",
              "    fill: var(--disabled-fill-color);\n",
              "    box-shadow: none;\n",
              "  }\n",
              "\n",
              "  .colab-df-spinner {\n",
              "    border: 2px solid var(--fill-color);\n",
              "    border-color: transparent;\n",
              "    border-bottom-color: var(--fill-color);\n",
              "    animation:\n",
              "      spin 1s steps(1) infinite;\n",
              "  }\n",
              "\n",
              "  @keyframes spin {\n",
              "    0% {\n",
              "      border-color: transparent;\n",
              "      border-bottom-color: var(--fill-color);\n",
              "      border-left-color: var(--fill-color);\n",
              "    }\n",
              "    20% {\n",
              "      border-color: transparent;\n",
              "      border-left-color: var(--fill-color);\n",
              "      border-top-color: var(--fill-color);\n",
              "    }\n",
              "    30% {\n",
              "      border-color: transparent;\n",
              "      border-left-color: var(--fill-color);\n",
              "      border-top-color: var(--fill-color);\n",
              "      border-right-color: var(--fill-color);\n",
              "    }\n",
              "    40% {\n",
              "      border-color: transparent;\n",
              "      border-right-color: var(--fill-color);\n",
              "      border-top-color: var(--fill-color);\n",
              "    }\n",
              "    60% {\n",
              "      border-color: transparent;\n",
              "      border-right-color: var(--fill-color);\n",
              "    }\n",
              "    80% {\n",
              "      border-color: transparent;\n",
              "      border-right-color: var(--fill-color);\n",
              "      border-bottom-color: var(--fill-color);\n",
              "    }\n",
              "    90% {\n",
              "      border-color: transparent;\n",
              "      border-bottom-color: var(--fill-color);\n",
              "    }\n",
              "  }\n",
              "</style>\n",
              "\n",
              "  <script>\n",
              "    async function quickchart(key) {\n",
              "      const quickchartButtonEl =\n",
              "        document.querySelector('#' + key + ' button');\n",
              "      quickchartButtonEl.disabled = true;  // To prevent multiple clicks.\n",
              "      quickchartButtonEl.classList.add('colab-df-spinner');\n",
              "      try {\n",
              "        const charts = await google.colab.kernel.invokeFunction(\n",
              "            'suggestCharts', [key], {});\n",
              "      } catch (error) {\n",
              "        console.error('Error during call to suggestCharts:', error);\n",
              "      }\n",
              "      quickchartButtonEl.classList.remove('colab-df-spinner');\n",
              "      quickchartButtonEl.classList.add('colab-df-quickchart-complete');\n",
              "    }\n",
              "    (() => {\n",
              "      let quickchartButtonEl =\n",
              "        document.querySelector('#df-4142b211-a388-470f-88e4-bc7be39bb90c button');\n",
              "      quickchartButtonEl.style.display =\n",
              "        google.colab.kernel.accessAllowed ? 'block' : 'none';\n",
              "    })();\n",
              "  </script>\n",
              "</div>\n",
              "\n",
              "    </div>\n",
              "  </div>\n"
            ],
            "application/vnd.google.colaboratory.intrinsic+json": {
              "type": "dataframe",
              "variable_name": "df"
            }
          },
          "metadata": {},
          "execution_count": 44
        }
      ],
      "source": [
        "# Carga los datos del archivo SouthGermanCredit.asc:\n",
        "\n",
        "# ************* Inlcuye aquí tu código:*****************************\n",
        "\n",
        "# NOTA: Tanto aquí como en lo sucesivo, \"None\" puede indicar una o varias líneas de código.\n",
        "ruta_SouthGermanCredit = \"/content/SouthGermanCredit.asc\"\n",
        "df = pd.read_csv(ruta_SouthGermanCredit, sep='\\s+')\n",
        "\n",
        "\n",
        "# *********** Aquí termina la sección de agregar código *************\n",
        "\n",
        "\n",
        "print('Dimensión del DataFrame (registros,variables):', df.shape)\n",
        "df.head(3).T"
      ]
    },
    {
      "cell_type": "code",
      "source": [
        "# Renombra las columnas del alemán al inglés y desplegamos de\n",
        "# nuevo el DataFrame para ver el resultado obtenido:\n",
        "\n",
        "# ************* Inlcuye aquí tu código:*****************************\n",
        "\n",
        "\n",
        "# NOTA: Tanto aquí como en lo sucesivo, \"None\" puede indicar una o varias líneas de código.\n",
        "print(df.columns)\n",
        "\n",
        "# Translate the rest of the columns\n",
        "cols_translated = {\n",
        "    'laufkont': 'status',\n",
        "    'laufzeit': 'duration',\n",
        "    'moral': 'credit_history',\n",
        "    'verw': 'purpose',\n",
        "    'hoehe': 'amount',\n",
        "    'sparkont': 'savings',\n",
        "    'beszeit': 'employment_duration',\n",
        "    'rate': 'installment_rate',\n",
        "    'famges': 'personal_status_sex',\n",
        "    'buerge': 'other_debtors',\n",
        "    'wohnzeit': 'present_residence',\n",
        "    'verm': 'property',\n",
        "    'alter': 'age',\n",
        "    'weitkred': 'other_installment_plans',\n",
        "    'wohn': 'housing',\n",
        "    'bishkred': 'number_credits',\n",
        "    'beruf': 'job',\n",
        "    'pers': 'people_liable',\n",
        "    'telef': 'telephone',\n",
        "    'gastarb': 'foreign_worker',\n",
        "    'kredit': 'credit_risk'\n",
        "}\n",
        "\n",
        "df.columns = cols_translated.values()\n",
        "\n",
        "# *********** Aquí termina la sección de agregar código *************\n",
        "\n",
        "\n",
        "df.head(3).T"
      ],
      "metadata": {
        "id": "gf9NRIQXIeRX",
        "colab": {
          "base_uri": "https://localhost:8080/",
          "height": 777
        },
        "outputId": "bef8b636-78a3-4622-cc8c-e5130bdc8299"
      },
      "execution_count": 45,
      "outputs": [
        {
          "output_type": "stream",
          "name": "stdout",
          "text": [
            "Index(['laufkont', 'laufzeit', 'moral', 'verw', 'hoehe', 'sparkont', 'beszeit',\n",
            "       'rate', 'famges', 'buerge', 'wohnzeit', 'verm', 'alter', 'weitkred',\n",
            "       'wohn', 'bishkred', 'beruf', 'pers', 'telef', 'gastarb', 'kredit'],\n",
            "      dtype='object')\n"
          ]
        },
        {
          "output_type": "execute_result",
          "data": {
            "text/plain": [
              "                            0     1    2\n",
              "status                      1     1    2\n",
              "duration                   18     9   12\n",
              "credit_history              4     4    2\n",
              "purpose                     2     0    9\n",
              "amount                   1049  2799  841\n",
              "savings                     1     1    2\n",
              "employment_duration         2     3    4\n",
              "installment_rate            4     2    2\n",
              "personal_status_sex         2     3    2\n",
              "other_debtors               1     1    1\n",
              "present_residence           4     2    4\n",
              "property                    2     1    1\n",
              "age                        21    36   23\n",
              "other_installment_plans     3     3    3\n",
              "housing                     1     1    1\n",
              "number_credits              1     2    1\n",
              "job                         3     3    2\n",
              "people_liable               2     1    2\n",
              "telephone                   1     1    1\n",
              "foreign_worker              2     2    2\n",
              "credit_risk                 1     1    1"
            ],
            "text/html": [
              "\n",
              "  <div id=\"df-d4e30a19-f720-440d-956d-e02664bde8ea\" class=\"colab-df-container\">\n",
              "    <div>\n",
              "<style scoped>\n",
              "    .dataframe tbody tr th:only-of-type {\n",
              "        vertical-align: middle;\n",
              "    }\n",
              "\n",
              "    .dataframe tbody tr th {\n",
              "        vertical-align: top;\n",
              "    }\n",
              "\n",
              "    .dataframe thead th {\n",
              "        text-align: right;\n",
              "    }\n",
              "</style>\n",
              "<table border=\"1\" class=\"dataframe\">\n",
              "  <thead>\n",
              "    <tr style=\"text-align: right;\">\n",
              "      <th></th>\n",
              "      <th>0</th>\n",
              "      <th>1</th>\n",
              "      <th>2</th>\n",
              "    </tr>\n",
              "  </thead>\n",
              "  <tbody>\n",
              "    <tr>\n",
              "      <th>status</th>\n",
              "      <td>1</td>\n",
              "      <td>1</td>\n",
              "      <td>2</td>\n",
              "    </tr>\n",
              "    <tr>\n",
              "      <th>duration</th>\n",
              "      <td>18</td>\n",
              "      <td>9</td>\n",
              "      <td>12</td>\n",
              "    </tr>\n",
              "    <tr>\n",
              "      <th>credit_history</th>\n",
              "      <td>4</td>\n",
              "      <td>4</td>\n",
              "      <td>2</td>\n",
              "    </tr>\n",
              "    <tr>\n",
              "      <th>purpose</th>\n",
              "      <td>2</td>\n",
              "      <td>0</td>\n",
              "      <td>9</td>\n",
              "    </tr>\n",
              "    <tr>\n",
              "      <th>amount</th>\n",
              "      <td>1049</td>\n",
              "      <td>2799</td>\n",
              "      <td>841</td>\n",
              "    </tr>\n",
              "    <tr>\n",
              "      <th>savings</th>\n",
              "      <td>1</td>\n",
              "      <td>1</td>\n",
              "      <td>2</td>\n",
              "    </tr>\n",
              "    <tr>\n",
              "      <th>employment_duration</th>\n",
              "      <td>2</td>\n",
              "      <td>3</td>\n",
              "      <td>4</td>\n",
              "    </tr>\n",
              "    <tr>\n",
              "      <th>installment_rate</th>\n",
              "      <td>4</td>\n",
              "      <td>2</td>\n",
              "      <td>2</td>\n",
              "    </tr>\n",
              "    <tr>\n",
              "      <th>personal_status_sex</th>\n",
              "      <td>2</td>\n",
              "      <td>3</td>\n",
              "      <td>2</td>\n",
              "    </tr>\n",
              "    <tr>\n",
              "      <th>other_debtors</th>\n",
              "      <td>1</td>\n",
              "      <td>1</td>\n",
              "      <td>1</td>\n",
              "    </tr>\n",
              "    <tr>\n",
              "      <th>present_residence</th>\n",
              "      <td>4</td>\n",
              "      <td>2</td>\n",
              "      <td>4</td>\n",
              "    </tr>\n",
              "    <tr>\n",
              "      <th>property</th>\n",
              "      <td>2</td>\n",
              "      <td>1</td>\n",
              "      <td>1</td>\n",
              "    </tr>\n",
              "    <tr>\n",
              "      <th>age</th>\n",
              "      <td>21</td>\n",
              "      <td>36</td>\n",
              "      <td>23</td>\n",
              "    </tr>\n",
              "    <tr>\n",
              "      <th>other_installment_plans</th>\n",
              "      <td>3</td>\n",
              "      <td>3</td>\n",
              "      <td>3</td>\n",
              "    </tr>\n",
              "    <tr>\n",
              "      <th>housing</th>\n",
              "      <td>1</td>\n",
              "      <td>1</td>\n",
              "      <td>1</td>\n",
              "    </tr>\n",
              "    <tr>\n",
              "      <th>number_credits</th>\n",
              "      <td>1</td>\n",
              "      <td>2</td>\n",
              "      <td>1</td>\n",
              "    </tr>\n",
              "    <tr>\n",
              "      <th>job</th>\n",
              "      <td>3</td>\n",
              "      <td>3</td>\n",
              "      <td>2</td>\n",
              "    </tr>\n",
              "    <tr>\n",
              "      <th>people_liable</th>\n",
              "      <td>2</td>\n",
              "      <td>1</td>\n",
              "      <td>2</td>\n",
              "    </tr>\n",
              "    <tr>\n",
              "      <th>telephone</th>\n",
              "      <td>1</td>\n",
              "      <td>1</td>\n",
              "      <td>1</td>\n",
              "    </tr>\n",
              "    <tr>\n",
              "      <th>foreign_worker</th>\n",
              "      <td>2</td>\n",
              "      <td>2</td>\n",
              "      <td>2</td>\n",
              "    </tr>\n",
              "    <tr>\n",
              "      <th>credit_risk</th>\n",
              "      <td>1</td>\n",
              "      <td>1</td>\n",
              "      <td>1</td>\n",
              "    </tr>\n",
              "  </tbody>\n",
              "</table>\n",
              "</div>\n",
              "    <div class=\"colab-df-buttons\">\n",
              "\n",
              "  <div class=\"colab-df-container\">\n",
              "    <button class=\"colab-df-convert\" onclick=\"convertToInteractive('df-d4e30a19-f720-440d-956d-e02664bde8ea')\"\n",
              "            title=\"Convert this dataframe to an interactive table.\"\n",
              "            style=\"display:none;\">\n",
              "\n",
              "  <svg xmlns=\"http://www.w3.org/2000/svg\" height=\"24px\" viewBox=\"0 -960 960 960\">\n",
              "    <path d=\"M120-120v-720h720v720H120Zm60-500h600v-160H180v160Zm220 220h160v-160H400v160Zm0 220h160v-160H400v160ZM180-400h160v-160H180v160Zm440 0h160v-160H620v160ZM180-180h160v-160H180v160Zm440 0h160v-160H620v160Z\"/>\n",
              "  </svg>\n",
              "    </button>\n",
              "\n",
              "  <style>\n",
              "    .colab-df-container {\n",
              "      display:flex;\n",
              "      gap: 12px;\n",
              "    }\n",
              "\n",
              "    .colab-df-convert {\n",
              "      background-color: #E8F0FE;\n",
              "      border: none;\n",
              "      border-radius: 50%;\n",
              "      cursor: pointer;\n",
              "      display: none;\n",
              "      fill: #1967D2;\n",
              "      height: 32px;\n",
              "      padding: 0 0 0 0;\n",
              "      width: 32px;\n",
              "    }\n",
              "\n",
              "    .colab-df-convert:hover {\n",
              "      background-color: #E2EBFA;\n",
              "      box-shadow: 0px 1px 2px rgba(60, 64, 67, 0.3), 0px 1px 3px 1px rgba(60, 64, 67, 0.15);\n",
              "      fill: #174EA6;\n",
              "    }\n",
              "\n",
              "    .colab-df-buttons div {\n",
              "      margin-bottom: 4px;\n",
              "    }\n",
              "\n",
              "    [theme=dark] .colab-df-convert {\n",
              "      background-color: #3B4455;\n",
              "      fill: #D2E3FC;\n",
              "    }\n",
              "\n",
              "    [theme=dark] .colab-df-convert:hover {\n",
              "      background-color: #434B5C;\n",
              "      box-shadow: 0px 1px 3px 1px rgba(0, 0, 0, 0.15);\n",
              "      filter: drop-shadow(0px 1px 2px rgba(0, 0, 0, 0.3));\n",
              "      fill: #FFFFFF;\n",
              "    }\n",
              "  </style>\n",
              "\n",
              "    <script>\n",
              "      const buttonEl =\n",
              "        document.querySelector('#df-d4e30a19-f720-440d-956d-e02664bde8ea button.colab-df-convert');\n",
              "      buttonEl.style.display =\n",
              "        google.colab.kernel.accessAllowed ? 'block' : 'none';\n",
              "\n",
              "      async function convertToInteractive(key) {\n",
              "        const element = document.querySelector('#df-d4e30a19-f720-440d-956d-e02664bde8ea');\n",
              "        const dataTable =\n",
              "          await google.colab.kernel.invokeFunction('convertToInteractive',\n",
              "                                                    [key], {});\n",
              "        if (!dataTable) return;\n",
              "\n",
              "        const docLinkHtml = 'Like what you see? Visit the ' +\n",
              "          '<a target=\"_blank\" href=https://colab.research.google.com/notebooks/data_table.ipynb>data table notebook</a>'\n",
              "          + ' to learn more about interactive tables.';\n",
              "        element.innerHTML = '';\n",
              "        dataTable['output_type'] = 'display_data';\n",
              "        await google.colab.output.renderOutput(dataTable, element);\n",
              "        const docLink = document.createElement('div');\n",
              "        docLink.innerHTML = docLinkHtml;\n",
              "        element.appendChild(docLink);\n",
              "      }\n",
              "    </script>\n",
              "  </div>\n",
              "\n",
              "\n",
              "<div id=\"df-6b8c4f7a-678b-43a4-a4d6-d6d13b88e0e4\">\n",
              "  <button class=\"colab-df-quickchart\" onclick=\"quickchart('df-6b8c4f7a-678b-43a4-a4d6-d6d13b88e0e4')\"\n",
              "            title=\"Suggest charts\"\n",
              "            style=\"display:none;\">\n",
              "\n",
              "<svg xmlns=\"http://www.w3.org/2000/svg\" height=\"24px\"viewBox=\"0 0 24 24\"\n",
              "     width=\"24px\">\n",
              "    <g>\n",
              "        <path d=\"M19 3H5c-1.1 0-2 .9-2 2v14c0 1.1.9 2 2 2h14c1.1 0 2-.9 2-2V5c0-1.1-.9-2-2-2zM9 17H7v-7h2v7zm4 0h-2V7h2v10zm4 0h-2v-4h2v4z\"/>\n",
              "    </g>\n",
              "</svg>\n",
              "  </button>\n",
              "\n",
              "<style>\n",
              "  .colab-df-quickchart {\n",
              "      --bg-color: #E8F0FE;\n",
              "      --fill-color: #1967D2;\n",
              "      --hover-bg-color: #E2EBFA;\n",
              "      --hover-fill-color: #174EA6;\n",
              "      --disabled-fill-color: #AAA;\n",
              "      --disabled-bg-color: #DDD;\n",
              "  }\n",
              "\n",
              "  [theme=dark] .colab-df-quickchart {\n",
              "      --bg-color: #3B4455;\n",
              "      --fill-color: #D2E3FC;\n",
              "      --hover-bg-color: #434B5C;\n",
              "      --hover-fill-color: #FFFFFF;\n",
              "      --disabled-bg-color: #3B4455;\n",
              "      --disabled-fill-color: #666;\n",
              "  }\n",
              "\n",
              "  .colab-df-quickchart {\n",
              "    background-color: var(--bg-color);\n",
              "    border: none;\n",
              "    border-radius: 50%;\n",
              "    cursor: pointer;\n",
              "    display: none;\n",
              "    fill: var(--fill-color);\n",
              "    height: 32px;\n",
              "    padding: 0;\n",
              "    width: 32px;\n",
              "  }\n",
              "\n",
              "  .colab-df-quickchart:hover {\n",
              "    background-color: var(--hover-bg-color);\n",
              "    box-shadow: 0 1px 2px rgba(60, 64, 67, 0.3), 0 1px 3px 1px rgba(60, 64, 67, 0.15);\n",
              "    fill: var(--button-hover-fill-color);\n",
              "  }\n",
              "\n",
              "  .colab-df-quickchart-complete:disabled,\n",
              "  .colab-df-quickchart-complete:disabled:hover {\n",
              "    background-color: var(--disabled-bg-color);\n",
              "    fill: var(--disabled-fill-color);\n",
              "    box-shadow: none;\n",
              "  }\n",
              "\n",
              "  .colab-df-spinner {\n",
              "    border: 2px solid var(--fill-color);\n",
              "    border-color: transparent;\n",
              "    border-bottom-color: var(--fill-color);\n",
              "    animation:\n",
              "      spin 1s steps(1) infinite;\n",
              "  }\n",
              "\n",
              "  @keyframes spin {\n",
              "    0% {\n",
              "      border-color: transparent;\n",
              "      border-bottom-color: var(--fill-color);\n",
              "      border-left-color: var(--fill-color);\n",
              "    }\n",
              "    20% {\n",
              "      border-color: transparent;\n",
              "      border-left-color: var(--fill-color);\n",
              "      border-top-color: var(--fill-color);\n",
              "    }\n",
              "    30% {\n",
              "      border-color: transparent;\n",
              "      border-left-color: var(--fill-color);\n",
              "      border-top-color: var(--fill-color);\n",
              "      border-right-color: var(--fill-color);\n",
              "    }\n",
              "    40% {\n",
              "      border-color: transparent;\n",
              "      border-right-color: var(--fill-color);\n",
              "      border-top-color: var(--fill-color);\n",
              "    }\n",
              "    60% {\n",
              "      border-color: transparent;\n",
              "      border-right-color: var(--fill-color);\n",
              "    }\n",
              "    80% {\n",
              "      border-color: transparent;\n",
              "      border-right-color: var(--fill-color);\n",
              "      border-bottom-color: var(--fill-color);\n",
              "    }\n",
              "    90% {\n",
              "      border-color: transparent;\n",
              "      border-bottom-color: var(--fill-color);\n",
              "    }\n",
              "  }\n",
              "</style>\n",
              "\n",
              "  <script>\n",
              "    async function quickchart(key) {\n",
              "      const quickchartButtonEl =\n",
              "        document.querySelector('#' + key + ' button');\n",
              "      quickchartButtonEl.disabled = true;  // To prevent multiple clicks.\n",
              "      quickchartButtonEl.classList.add('colab-df-spinner');\n",
              "      try {\n",
              "        const charts = await google.colab.kernel.invokeFunction(\n",
              "            'suggestCharts', [key], {});\n",
              "      } catch (error) {\n",
              "        console.error('Error during call to suggestCharts:', error);\n",
              "      }\n",
              "      quickchartButtonEl.classList.remove('colab-df-spinner');\n",
              "      quickchartButtonEl.classList.add('colab-df-quickchart-complete');\n",
              "    }\n",
              "    (() => {\n",
              "      let quickchartButtonEl =\n",
              "        document.querySelector('#df-6b8c4f7a-678b-43a4-a4d6-d6d13b88e0e4 button');\n",
              "      quickchartButtonEl.style.display =\n",
              "        google.colab.kernel.accessAllowed ? 'block' : 'none';\n",
              "    })();\n",
              "  </script>\n",
              "</div>\n",
              "\n",
              "    </div>\n",
              "  </div>\n"
            ],
            "application/vnd.google.colaboratory.intrinsic+json": {
              "type": "dataframe",
              "variable_name": "df"
            }
          },
          "metadata": {},
          "execution_count": 45
        }
      ]
    },
    {
      "cell_type": "markdown",
      "metadata": {
        "id": "LckYCS8SlnFo"
      },
      "source": [
        "## **Ejercicio 2**"
      ]
    },
    {
      "cell_type": "code",
      "source": [
        "# De la documentación de los datos SouthGermandata se sabe que la clase mayoritaria\n",
        "# de los buenos clientes se etiquetó con el valor de 1 en la variable de salida\n",
        "# llamada \"credit_risk\".\n",
        "# Veamos:\n",
        "\n",
        "print(df['credit_risk'].value_counts())"
      ],
      "metadata": {
        "id": "pyhuKIHhW57Z",
        "colab": {
          "base_uri": "https://localhost:8080/"
        },
        "outputId": "ed9b6f23-84ad-418c-dfd7-0b3791ae1113"
      },
      "execution_count": 46,
      "outputs": [
        {
          "output_type": "stream",
          "name": "stdout",
          "text": [
            "credit_risk\n",
            "1    700\n",
            "0    300\n",
            "Name: count, dtype: int64\n"
          ]
        }
      ]
    },
    {
      "cell_type": "code",
      "source": [
        "\"\"\"# Por lo tanto, realiza a continuación una transformación para que la clase mayoritaria\n",
        "# sea la clase negativa (es decir, de valor 0) y que la clase minoritaria sea la\n",
        "# clase positiva (es decir, de valor 1).\n",
        "\n",
        "# ************* Inlcuye aquí tu código:*****************************\n",
        "\n",
        "# Definición de variables de entrada y salida\n",
        "X = df.drop('credit_risk', axis=1)\n",
        "y = df['credit_risk']\n",
        "\n",
        "# Utilizando Smote y Tomek Links para Oversampling y Undersampling\n",
        "SMT_Tomek = SMOTETomek(random_state=42)\n",
        "X_res, y_res = SMT_Tomek.fit_resample(X, y)\n",
        "\n",
        "df_res = pd.concat([X_res, y_res], axis=1)\n",
        "\n",
        "# *********** Aquí termina la sección de agregar código *************\n",
        "\n",
        "\n",
        "print(df_res['credit_risk'].value_counts())\"\"\""
      ],
      "metadata": {
        "colab": {
          "base_uri": "https://localhost:8080/",
          "height": 0
        },
        "id": "gYEqWUyuzBGk",
        "outputId": "bf95b459-a58c-4dda-e6db-6af102b86692"
      },
      "execution_count": 47,
      "outputs": [
        {
          "output_type": "execute_result",
          "data": {
            "text/plain": [
              "\"# Por lo tanto, realiza a continuación una transformación para que la clase mayoritaria\\n# sea la clase negativa (es decir, de valor 0) y que la clase minoritaria sea la\\n# clase positiva (es decir, de valor 1).\\n\\n# ************* Inlcuye aquí tu código:*****************************\\n\\n# Definición de variables de entrada y salida\\nX = df.drop('credit_risk', axis=1)\\ny = df['credit_risk']\\n\\n# Utilizando Smote y Tomek Links para Oversampling y Undersampling\\nSMT_Tomek = SMOTETomek(random_state=42)\\nX_res, y_res = SMT_Tomek.fit_resample(X, y)\\n\\ndf_res = pd.concat([X_res, y_res], axis=1)\\n\\n# *********** Aquí termina la sección de agregar código *************\\n\\n\\nprint(df_res['credit_risk'].value_counts())\""
            ],
            "application/vnd.google.colaboratory.intrinsic+json": {
              "type": "string"
            }
          },
          "metadata": {},
          "execution_count": 47
        }
      ]
    },
    {
      "cell_type": "code",
      "execution_count": 48,
      "metadata": {
        "id": "Tlg8jYbnlqNA",
        "colab": {
          "base_uri": "https://localhost:8080/"
        },
        "outputId": "83fe9a8d-ab77-4bed-a844-800fc4430d2b"
      },
      "outputs": [
        {
          "output_type": "stream",
          "name": "stdout",
          "text": [
            "credit_risk\n",
            "0    700\n",
            "1    300\n",
            "Name: count, dtype: int64\n"
          ]
        }
      ],
      "source": [
        "# Por lo tanto, realiza a continuación una transformación para que la clase mayoritaria\n",
        "# sea la clase negativa (es decir, de valor 0) y que la clase minoritaria sea la\n",
        "# clase positiva (es decir, de valor 1).\n",
        "\n",
        "# ************* Inlcuye aquí tu código:*****************************\n",
        "\n",
        "df['credit_risk'] = df['credit_risk'].replace({0: 1, 1: 0})\n",
        "\n",
        "# *********** Aquí termina la sección de agregar código *************\n",
        "\n",
        "\n",
        "print(df['credit_risk'].value_counts())"
      ]
    },
    {
      "cell_type": "markdown",
      "metadata": {
        "id": "qQx2lbzTkEsQ"
      },
      "source": [
        "## **Ejercicio 3**"
      ]
    },
    {
      "cell_type": "code",
      "execution_count": 49,
      "metadata": {
        "id": "TP5-zdWVczhy",
        "colab": {
          "base_uri": "https://localhost:8080/"
        },
        "outputId": "1508a41f-a555-46bc-80db-cf17b9824d86"
      },
      "outputs": [
        {
          "output_type": "stream",
          "name": "stdout",
          "text": [
            "Dimensiones:\n",
            "Entrenamiento: (800, 20) (800,)\n",
            "Prueba: (200, 20) (200,)\n",
            "\n",
            "Porcentaje clases Positiva:70.25%, y Negativa:29.75%\n"
          ]
        }
      ],
      "source": [
        "# Ejercicio 3a.\n",
        "# Realiza una partición con el porcentaje solicitado para entrenamiento y prueba.\n",
        "# Los nombres de los conjuntos deberán ser como se indican en los print de abajo:\n",
        "\n",
        "# ************* Inlcuye aquí tu código:*****************************\n",
        "\n",
        "X = df.drop('credit_risk', axis=1)\n",
        "y = df['credit_risk']\n",
        "\n",
        "# Dividir los datos en conjuntos de entrenamiento y prueba\n",
        "Xtrain, Xtest, ytrain, ytest = train_test_split(X, y, test_size=0.2, random_state=42, shuffle=True)\n",
        "\n",
        "\n",
        "# *********** Aquí termina la sección de agregar código *************\n",
        "\n",
        "\n",
        "# Mostremos las dimensiones de la partición generada:\n",
        "print(\"Dimensiones:\")\n",
        "print(\"Entrenamiento:\", Xtrain.shape, ytrain.shape)\n",
        "print(\"Prueba:\", Xtest.shape, ytest.shape)\n",
        "\n",
        "# Y el porcentaje de cada clase de la variable de salida:\n",
        "tmp = (ytrain.sum()/ytrain.shape[0])\n",
        "print(\"\\nPorcentaje clases Positiva:%.2f%%, y Negativa:%.2f%%\" % (100*(1-tmp),tmp*100))\n"
      ]
    },
    {
      "cell_type": "markdown",
      "source": [
        "### **Ejercicio 3b**\n",
        "### **Con base al porcentaje de los niveles de la variable de salida ¿podemos decir que tenemos un problema de datos desbalanceado? ¿Por qué?**\n",
        "\n",
        "\n",
        "\n",
        "### ++++++++ Inicia la sección de agregar texto: +++++++++++\n",
        "\n",
        "Si, de acuerdo al dataset se tiene un 70% de cla clase positiva y 30% de clase negativa. También lo podemos observar con la instrucción \"value_counts()\".\n",
        "\n",
        "Para que no sea un problema de clases desbalanceadas el porcentaje entre ellas debe ser muy similar, en este caso siendo 50% y 50% por ser únicamente 2 tipos de clases.\n",
        "\n",
        "### ++++++++ Termina la sección de agregar texto: +++++++++++\n",
        "\n"
      ],
      "metadata": {
        "id": "ptwAm_mOjVWH"
      }
    },
    {
      "cell_type": "markdown",
      "source": [
        "### **Ejercicio 3c**\n",
        "### **¿Por qué se hizo el cambio de etiquetas 0 y 1 en la variable de salida?**\n",
        "\n",
        "\n",
        "\n",
        "### ++++++++ Inicia la sección de agregar texto: +++++++++++\n",
        "\n",
        "Comunmente se le asigna a la variable de interés o clase minoritaria el valor de 1 como mejor práctica en problemas de estadística y ML. Esto hace que se tenga un mejor énfasis en la clase positiva, que es la que queremos identificar, facilitando el entendimiento entre los diferentes modelos.\n",
        "\n",
        "De la misma manera, algunas métricas usadas en clasificación como el el recall, F1-score, presición están diseñados para evaluar el desempeño de la clase positiva.\n",
        "\n",
        "### ++++++++ Termina la sección de agregar texto: +++++++++++\n"
      ],
      "metadata": {
        "id": "xEaTBgoTaXg-"
      }
    },
    {
      "cell_type": "markdown",
      "metadata": {
        "id": "ocmGcSC2j_2x"
      },
      "source": [
        "## **Ejercicio 4**"
      ]
    },
    {
      "cell_type": "code",
      "source": [
        "# De acuerdo a la información de la Tabla 3 del artículo de la IEEE asociado a\n",
        "# esta Actividad, define a continuación las variables de entrada correspondientes\n",
        "# de acuerdo a su tipo y como se indica a continuación:\n",
        "\n",
        "# ************* Inlcuye aquí tu código:*****************************\n",
        "\n",
        "# Variables numéricas:\n",
        "lista_paper_num = [\"duration\", \"amount\", \"age\"]\n",
        "#lista_paper_num = [\"duration\", \"amount\", \"age\", \"people_liable\"]\n",
        "\n",
        "\n",
        "# Variables ordinales:\n",
        "lista_paper_ord = [\"employment_duration\", \"installment_rate\", \"present_residence\",\n",
        "                   \"property\", \"number_credits\", \"job\"]\n",
        "\n",
        "\n",
        "# Variables nominales & binarias:\n",
        "lista_paper_cat = [\"status\", \"credit_history\", \"purpose\", \"savings\", \"personal_status_sex\",\n",
        "                   \"other_debtors\", \"other_installment_plans\", \"housing\",\n",
        "                   \"telephone\", \"foreign_worker\", \"people_liable\"]\n",
        "\n",
        "\n",
        "\n",
        "# *********** Aquí termina la sección de agregar código *************\n",
        "\n",
        "print(\"Para los datos de entrada, veamos la cantidad de cada tipo de variable obtenida:\")\n",
        "print(\"Variables numéricas:\", len(lista_paper_num))\n",
        "print(\"Variables ordinales:\", len(lista_paper_ord))\n",
        "print(\"Variables nominales & binarias:\", len(lista_paper_cat))"
      ],
      "metadata": {
        "id": "5J2kIzLYHPZP",
        "colab": {
          "base_uri": "https://localhost:8080/"
        },
        "outputId": "91e6e834-15be-4bb1-a994-714556937f7f"
      },
      "execution_count": 50,
      "outputs": [
        {
          "output_type": "stream",
          "name": "stdout",
          "text": [
            "Para los datos de entrada, veamos la cantidad de cada tipo de variable obtenida:\n",
            "Variables numéricas: 3\n",
            "Variables ordinales: 6\n",
            "Variables nominales & binarias: 11\n"
          ]
        }
      ]
    },
    {
      "cell_type": "markdown",
      "metadata": {
        "id": "zb5bE4WJj8Rw"
      },
      "source": [
        "## **Ejercicio 5**"
      ]
    },
    {
      "cell_type": "code",
      "source": [
        "# En esta sección puedes incluir todas las celdas que consideres necesarias para\n",
        "# visualizar o bien obtener información de cada tipo de variable y te ayude a\n",
        "# determinar qué transformaciones aplicarás a cada una en el módulo de Pipeline."
      ],
      "metadata": {
        "id": "--yGqJm5fDBx"
      },
      "execution_count": 51,
      "outputs": []
    },
    {
      "cell_type": "markdown",
      "source": [
        "## Realizando histogramas de variables numéricas"
      ],
      "metadata": {
        "id": "r0m50gI8GNNj"
      }
    },
    {
      "cell_type": "code",
      "source": [
        "from scipy.stats import skew\n",
        "import math\n",
        "\n",
        "def histogramas(df, hists_per_row=3, hist_len=4, hist_height=4.5, color_palette=\"viridis\"):\n",
        "\n",
        "  # Alacenamiento de variables\n",
        "  skew_dic = dict()\n",
        "\n",
        "  # Determina el número de filas necesarias para graficar los histogramas\n",
        "  num_rows = math.ceil(len(df.columns) / hists_per_row)  # Use math.ceil to round up\n",
        "\n",
        "  # Layout dinámico: si más menos de 1 fila, entonces el diagrama se ajusta\n",
        "  if num_rows <= 1:\n",
        "    fig, axes = plt.subplots(1, len(df.columns), figsize=(len(df.columns)*hist_len, hist_height))\n",
        "  else:\n",
        "    fig, axes = plt.subplots(num_rows, hists_per_row, figsize=(hists_per_row*hist_len, num_rows*hist_height))\n",
        "\n",
        "\n",
        "  if len(df.columns) > 1:\n",
        "\n",
        "    # Grafica N gráficas\n",
        "    axes = axes.ravel()\n",
        "    colors = sns.color_palette(color_palette, len(df.columns))\n",
        "\n",
        "    # Graficando histogramas por cada variable del data frame\n",
        "    for col, ax, color in zip(df, axes, colors):\n",
        "\n",
        "        # Realiza el histograma y coloca el título del gráfico\n",
        "        ax = sns.histplot(data=df, x=col, ax=ax, color=color, kde=True)\n",
        "        ax.set_title(f'Histograma de {col}')\n",
        "\n",
        "        # Guarda el skew del histograma en el diccionario\n",
        "        skew_dic[col] = float(round(skew(df[col]), 4))\n",
        "  else:\n",
        "\n",
        "      # Sólo grafica 1 gráfica\n",
        "      ax = sns.histplot(data=df,kde=True)\n",
        "      ax.set_title(f'Histograma de {df.columns[0]}')\n",
        "      skew_dic = float(round(skew(df[df.columns[0]]), 4))\n",
        "\n",
        "  fig.suptitle(\"\\nHistogramas de variables numéricas del DF\\n\")\n",
        "  fig.tight_layout()\n",
        "  print(\"Skew Dictionary:\",skew_dic)\n",
        "\n",
        "# Utilizando la función para dibujar histogramas\n",
        "histogramas(Xtrain[lista_paper_num], hists_per_row=4)"
      ],
      "metadata": {
        "colab": {
          "base_uri": "https://localhost:8080/",
          "height": 480
        },
        "id": "fPuzl0HDAqvP",
        "outputId": "50870206-ef76-42ce-941a-c02ba9cbcbc9"
      },
      "execution_count": 52,
      "outputs": [
        {
          "output_type": "stream",
          "name": "stdout",
          "text": [
            "Skew Dictionary: {'duration': 1.0426, 'amount': 1.8804, 'age': 1.0264}\n"
          ]
        },
        {
          "output_type": "display_data",
          "data": {
            "text/plain": [
              "<Figure size 1200x450 with 3 Axes>"
            ],
            "image/png": "[encoded data removed]"
          },
          "metadata": {}
        }
      ]
    },
    {
      "cell_type": "markdown",
      "source": [
        "### Conclusiones\n",
        "\n",
        "\n",
        "*   Se necesitan realizar transformaciones:\n",
        "  * **Escalamiento**: Cada columna numérica tenga los mismo valores.\n",
        "  * **Transformación**: Todas las variables excepto la de people_liable tienen una skew o sesgo a la derecha o positivo, por lo que se necesitan igualar una distribución normal\n"
      ],
      "metadata": {
        "id": "2CUq2lBDD3YF"
      }
    },
    {
      "cell_type": "markdown",
      "source": [
        "## Graficando Boxplots"
      ],
      "metadata": {
        "id": "m-kbcTRYGlqH"
      }
    },
    {
      "cell_type": "code",
      "source": [
        "import math\n",
        "\n",
        "def boxplots(df, boxplots_per_row=3, boxplots_len=4, boxplots_height=2.5, color_palette=\"viridis\"):\n",
        "\n",
        "  # Alacenamiento de variables\n",
        "  scale_cols = list()\n",
        "  skew_dic = dict()\n",
        "\n",
        "  # Determina el número de filas necesarias para graficar los histogramas\n",
        "  num_rows = math.ceil(len(df.columns) / boxplots_per_row)  # Use math.ceil to round up\n",
        "\n",
        "  # Layout dinámico: si más menos de 1 fila, entonces el diagrama se ajusta\n",
        "  if num_rows <= 1:\n",
        "    fig, axes = plt.subplots(1, len(df.columns), figsize=(len(df.columns)*boxplots_len, boxplots_height))\n",
        "  else:\n",
        "    fig, axes = plt.subplots(num_rows, boxplots_per_row, figsize=(boxplots_per_row*boxplots_len, num_rows*boxplots_height))\n",
        "\n",
        "\n",
        "  if len(df.columns) > 1:\n",
        "\n",
        "    # Generando colores y ejes a graficar\n",
        "    axes = axes.ravel()\n",
        "    colors = sns.color_palette(color_palette, len(df.columns))\n",
        "\n",
        "    # Graficando histogramas por cada variable del data frame\n",
        "    for col, ax, color in zip(df, axes, colors):\n",
        "\n",
        "        # Realiza el histograma y coloca el título del gráfico\n",
        "        ax = sns.boxplot(data=df, x=col, ax=ax, color=color)\n",
        "        ax.set_title(f'Boxplot de {col}')\n",
        "\n",
        "        # Guardando rangos de valores mayores a 1 para escalarlos\n",
        "        scale = max(df[col]) - min(df[col])\n",
        "        if scale > 1:\n",
        "            scale_cols.append(col)\n",
        "        elif (min(df[col]) < 0 and max(df[col]) > 1):\n",
        "            scale_cols.append(col)\n",
        "\n",
        "        # Guarda el skew del histograma en el diccionario\n",
        "        skew_dic[col] = float(round(skew(df[col]), 4))\n",
        "\n",
        "  else:\n",
        "\n",
        "      # Sólo grafica 1 gráfica\n",
        "      ax = sns.boxplot(data=df)\n",
        "      ax.set_title(f'Boxplot de {df.columns[0]}')\n",
        "      skew_dic = float(round(skew(df[df.columns[0]]), 4))\n",
        "\n",
        "\n",
        "  fig.suptitle(\"\\nBoxplot de variables numéricas del DF\\n\")\n",
        "  fig.tight_layout()\n",
        "  print(\"Columnas a escalar (rango de valores mayores a 1):\", scale_cols)\n",
        "  print(\"Skew Dictionary:\",skew_dic)\n",
        "\n",
        "# Utilizando la función para dibujar histogramas\n",
        "boxplots(Xtrain[lista_paper_num], boxplots_per_row=4)"
      ],
      "metadata": {
        "colab": {
          "base_uri": "https://localhost:8080/",
          "height": 302
        },
        "id": "nrYpAOwwOCZm",
        "outputId": "f24375e4-4264-4689-c25b-80dbae400894"
      },
      "execution_count": 53,
      "outputs": [
        {
          "output_type": "stream",
          "name": "stdout",
          "text": [
            "Columnas a escalar (rango de valores mayores a 1): ['duration', 'amount', 'age']\n",
            "Skew Dictionary: {'duration': 1.0426, 'amount': 1.8804, 'age': 1.0264}\n"
          ]
        },
        {
          "output_type": "display_data",
          "data": {
            "text/plain": [
              "<Figure size 1200x250 with 3 Axes>"
            ],
            "image/png": "[encoded data removed]"
          },
          "metadata": {}
        }
      ]
    },
    {
      "cell_type": "markdown",
      "source": [
        "### Conclusiones\n",
        "\n",
        "\n",
        "*   Tenemos presencia de outliers / valores atípicos, por lo que podemos realizar una imputación, descarte o limitación de valores.\n",
        "* Por la posición del boxplot también se observa que las proporciones tienen un sesgo positivo, y lo confirman el valor calculado.\n"
      ],
      "metadata": {
        "id": "iBJTzR0q0QJl"
      }
    },
    {
      "cell_type": "code",
      "source": [
        "# Mapa de correlaciones\n",
        "\n",
        "def heatmap(df, decimals=2, fig_size=1):\n",
        "  fig = plt.figure(figsize=(len(df.columns)*1.2*fig_size, len(df.columns)*fig_size))     # Define el tamaño de la figura\n",
        "  corr_map = round(df.corr(numeric_only=True), decimals)      # Crea mapa de correlación\n",
        "  mapa_de_calor = sns.heatmap(corr_map, annot=True, annot_kws={\"fontsize\": 8})    # Dibuja el mapa de correlación con seaborn\n",
        "  fig.tight_layout()\n",
        "\n",
        "heatmap(Xtrain[lista_paper_num])"
      ],
      "metadata": {
        "colab": {
          "base_uri": "https://localhost:8080/",
          "height": 307
        },
        "id": "si-d_eTYNyeW",
        "outputId": "b8946a9f-9822-4d09-f904-f4af531c08cf"
      },
      "execution_count": 74,
      "outputs": [
        {
          "output_type": "display_data",
          "data": {
            "text/plain": [
              "<Figure size 360x300 with 2 Axes>"
            ],
            "image/png": "[encoded data removed]"
          },
          "metadata": {}
        }
      ]
    },
    {
      "cell_type": "code",
      "source": [
        "import math\n",
        "\n",
        "def bar_chart(df, figures_per_row=3, figure_len=4, figure_height=4, color_palette=\"viridis\", rotation=0):\n",
        "\n",
        "  # Determina el número de filas necesarias para graficar los histogramas\n",
        "  num_rows = math.ceil(len(df.columns) / figures_per_row)  # Use math.ceil to round up\n",
        "\n",
        "  # Layout dinámico: si más menos de 1 fila, entonces el diagrama se ajusta\n",
        "  if num_rows <= 1:\n",
        "    fig, axes = plt.subplots(1, len(df.columns), figsize=(len(df.columns)*figure_len, figure_height))\n",
        "  else:\n",
        "    fig, axes = plt.subplots(num_rows, figures_per_row, figsize=(figures_per_row*figure_len, num_rows*figure_height))\n",
        "\n",
        "\n",
        "  if len(df.columns) > 1:\n",
        "\n",
        "    # Generando colores y ejes a graficar\n",
        "    axes = axes.ravel()\n",
        "    colors = sns.color_palette(color_palette, len(df.columns))\n",
        "\n",
        "    for col, ax in zip(df, axes):\n",
        "      sns.countplot(data=df, x=col, ax=ax, hue=col, palette=\"viridis\", legend=False)\n",
        "      ax.set_title(f'{col}')\n",
        "\n",
        "      # Obtener los valores únicos de la columna 'col'\n",
        "      ticks = df[col].unique()\n",
        "\n",
        "      # Establecer los ticks en el eje x\n",
        "      ax.set_xticks(ticks)\n",
        "      ax.set_xticklabels(ax.get_xticklabels(), rotation=rotation, ha='right', fontsize=10)  # Rota las etiquetas\n",
        "\n",
        "  else:\n",
        "\n",
        "    sns.countplot(data=df, palette=\"viridis\", legend=False)\n",
        "    ax.set_title(f'{df[df.columns]}')\n",
        "\n",
        "    # Obtener los valores únicos de la columna 'col'\n",
        "    ticks = df[df.columns].unique()\n",
        "\n",
        "    # Establecer los ticks en el eje x\n",
        "    ax.set_xticks(ticks)\n",
        "    ax.set_xticklabels(ax.get_xticklabels(), rotation=45, ha='right', fontsize=10)  # Rota las etiquetas\n",
        "\n",
        "  fig.suptitle(\"Gráficas de barras\")\n",
        "  fig.tight_layout()  # Ajusta el espaciado entre subplots\n",
        "\n",
        "# Utilizando la función para dibujar histogramas\n",
        "bar_chart(Xtrain[lista_paper_cat], figures_per_row=4, rotation=0)"
      ],
      "metadata": {
        "colab": {
          "base_uri": "https://localhost:8080/",
          "height": 1000
        },
        "id": "i6qygX4HQRIT",
        "outputId": "b6b203a5-55d6-4b70-ea90-dddf378b1664"
      },
      "execution_count": 79,
      "outputs": [
        {
          "output_type": "display_data",
          "data": {
            "text/plain": [
              "<Figure size 1600x1200 with 12 Axes>"
            ],
            "image/png": "[encoded data removed]"
          },
          "metadata": {}
        }
      ]
    },
    {
      "cell_type": "code",
      "source": [
        "bar_chart(Xtrain[lista_paper_ord], figures_per_row=3)"
      ],
      "metadata": {
        "colab": {
          "base_uri": "https://localhost:8080/",
          "height": 806
        },
        "id": "Cyw_lAOHr2ut",
        "outputId": "7b4ce6cc-9775-449b-e03f-156e68558939"
      },
      "execution_count": 80,
      "outputs": [
        {
          "output_type": "display_data",
          "data": {
            "text/plain": [
              "<Figure size 1200x800 with 6 Axes>"
            ],
            "image/png": "[encoded data removed]"
          },
          "metadata": {}
        }
      ]
    },
    {
      "cell_type": "markdown",
      "source": [
        "### Conclusiones\n",
        "\n",
        "\n",
        "*   Podemos observar que todas las variables categóricas y ordniales ya tienen no se representan por etiquetas, sino que ya tienen asignada una representación numérica de tipo ordinal.\n"
      ],
      "metadata": {
        "id": "Vorh2QnFXqiu"
      }
    },
    {
      "cell_type": "code",
      "source": [
        "# Verificando si hay valores no nulos en el dataframe\n",
        "df.isna().sum()"
      ],
      "metadata": {
        "colab": {
          "base_uri": "https://localhost:8080/",
          "height": 742
        },
        "id": "E5YUXpCvvQmK",
        "outputId": "8f7c8b56-13e7-443b-ef7d-9830b3bf5dd0"
      },
      "execution_count": 57,
      "outputs": [
        {
          "output_type": "execute_result",
          "data": {
            "text/plain": [
              "status                     0\n",
              "duration                   0\n",
              "credit_history             0\n",
              "purpose                    0\n",
              "amount                     0\n",
              "savings                    0\n",
              "employment_duration        0\n",
              "installment_rate           0\n",
              "personal_status_sex        0\n",
              "other_debtors              0\n",
              "present_residence          0\n",
              "property                   0\n",
              "age                        0\n",
              "other_installment_plans    0\n",
              "housing                    0\n",
              "number_credits             0\n",
              "job                        0\n",
              "people_liable              0\n",
              "telephone                  0\n",
              "foreign_worker             0\n",
              "credit_risk                0\n",
              "dtype: int64"
            ],
            "text/html": [
              "<div>\n",
              "<style scoped>\n",
              "    .dataframe tbody tr th:only-of-type {\n",
              "        vertical-align: middle;\n",
              "    }\n",
              "\n",
              "    .dataframe tbody tr th {\n",
              "        vertical-align: top;\n",
              "    }\n",
              "\n",
              "    .dataframe thead th {\n",
              "        text-align: right;\n",
              "    }\n",
              "</style>\n",
              "<table border=\"1\" class=\"dataframe\">\n",
              "  <thead>\n",
              "    <tr style=\"text-align: right;\">\n",
              "      <th></th>\n",
              "      <th>0</th>\n",
              "    </tr>\n",
              "  </thead>\n",
              "  <tbody>\n",
              "    <tr>\n",
              "      <th>status</th>\n",
              "      <td>0</td>\n",
              "    </tr>\n",
              "    <tr>\n",
              "      <th>duration</th>\n",
              "      <td>0</td>\n",
              "    </tr>\n",
              "    <tr>\n",
              "      <th>credit_history</th>\n",
              "      <td>0</td>\n",
              "    </tr>\n",
              "    <tr>\n",
              "      <th>purpose</th>\n",
              "      <td>0</td>\n",
              "    </tr>\n",
              "    <tr>\n",
              "      <th>amount</th>\n",
              "      <td>0</td>\n",
              "    </tr>\n",
              "    <tr>\n",
              "      <th>savings</th>\n",
              "      <td>0</td>\n",
              "    </tr>\n",
              "    <tr>\n",
              "      <th>employment_duration</th>\n",
              "      <td>0</td>\n",
              "    </tr>\n",
              "    <tr>\n",
              "      <th>installment_rate</th>\n",
              "      <td>0</td>\n",
              "    </tr>\n",
              "    <tr>\n",
              "      <th>personal_status_sex</th>\n",
              "      <td>0</td>\n",
              "    </tr>\n",
              "    <tr>\n",
              "      <th>other_debtors</th>\n",
              "      <td>0</td>\n",
              "    </tr>\n",
              "    <tr>\n",
              "      <th>present_residence</th>\n",
              "      <td>0</td>\n",
              "    </tr>\n",
              "    <tr>\n",
              "      <th>property</th>\n",
              "      <td>0</td>\n",
              "    </tr>\n",
              "    <tr>\n",
              "      <th>age</th>\n",
              "      <td>0</td>\n",
              "    </tr>\n",
              "    <tr>\n",
              "      <th>other_installment_plans</th>\n",
              "      <td>0</td>\n",
              "    </tr>\n",
              "    <tr>\n",
              "      <th>housing</th>\n",
              "      <td>0</td>\n",
              "    </tr>\n",
              "    <tr>\n",
              "      <th>number_credits</th>\n",
              "      <td>0</td>\n",
              "    </tr>\n",
              "    <tr>\n",
              "      <th>job</th>\n",
              "      <td>0</td>\n",
              "    </tr>\n",
              "    <tr>\n",
              "      <th>people_liable</th>\n",
              "      <td>0</td>\n",
              "    </tr>\n",
              "    <tr>\n",
              "      <th>telephone</th>\n",
              "      <td>0</td>\n",
              "    </tr>\n",
              "    <tr>\n",
              "      <th>foreign_worker</th>\n",
              "      <td>0</td>\n",
              "    </tr>\n",
              "    <tr>\n",
              "      <th>credit_risk</th>\n",
              "      <td>0</td>\n",
              "    </tr>\n",
              "  </tbody>\n",
              "</table>\n",
              "</div><br><label><b>dtype:</b> int64</label>"
            ]
          },
          "metadata": {},
          "execution_count": 57
        }
      ]
    },
    {
      "cell_type": "markdown",
      "source": [
        "### Conclusiones\n",
        "\n",
        "\n",
        "*   Como no se tienen valores no nulos, no se necesita colocar un imputer\n"
      ],
      "metadata": {
        "id": "zGFU2UQ9v4v8"
      }
    },
    {
      "cell_type": "code",
      "execution_count": 58,
      "metadata": {
        "id": "NvNYiIp9weCm",
        "colab": {
          "base_uri": "https://localhost:8080/"
        },
        "outputId": "e1f7fcdd-ee2f-4f1d-81ca-0ab8568f3213"
      },
      "outputs": [
        {
          "output_type": "stream",
          "name": "stdout",
          "text": [
            "Dimensión de los datos de entrada:\n",
            "antes de aplicar las transformaciones: (800, 20)\n",
            "después de aplicar las transformaciones: (800, 20)\n"
          ]
        }
      ],
      "source": [
        "# Una vez analizados los datos de entrada, las transformaciones que se aplicarán\n",
        "# a cada tipo de variable usando la clase Pipeline de sklearn son las siguientes:\n",
        "\n",
        "\n",
        "# ************* Inlcuye aquí tu código:*****************************\n",
        "\n",
        "from sklearn.pipeline import Pipeline\n",
        "from sklearn.compose import ColumnTransformer\n",
        "\n",
        "from sklearn.preprocessing import PowerTransformer\n",
        "from sklearn.preprocessing import FunctionTransformer\n",
        "from sklearn.preprocessing import OrdinalEncoder\n",
        "from sklearn.preprocessing import StandardScaler\n",
        "\n",
        "\n",
        "def reemplazar_outliers_mediana(X):\n",
        "    for columna in X.columns:\n",
        "        Q1 = X[columna].quantile(0.25)\n",
        "        Q3 = X[columna].quantile(0.75)\n",
        "        IQR = Q3 - Q1\n",
        "        limite_inferior = Q1 - 1.5 * IQR\n",
        "        limite_superior = Q3 + 1.5 * IQR\n",
        "        X[columna] = np.where((X[columna] < limite_inferior) | (X[columna] > limite_superior),\n",
        "                              X[columna].median(), X[columna])\n",
        "    return X\n",
        "\n",
        "outlier_handler = FunctionTransformer(reemplazar_outliers_mediana)\n",
        "\n",
        "\n",
        "# Variables numéricas:\n",
        "numericas_pipe = Pipeline([\n",
        "    #(\"outlier_replacement\", outlier_handler),\n",
        "    (\"Scaler\", StandardScaler()),\n",
        "    ('PowerTransformer', PowerTransformer(method='yeo-johnson', standardize=True))\n",
        "])\n",
        "numericas_pipe_nombres = lista_paper_num\n",
        "\n",
        "# Variables categóricas-Nominales:\n",
        "nominales_pipe = Pipeline([\n",
        "    (\"Scaler\", StandardScaler()),\n",
        "    (\"OrdinalEncoder\", OrdinalEncoder())\n",
        "])\n",
        "nominales_pipe_nombres = lista_paper_cat\n",
        "\n",
        "# Variables categóricas-ordinales:\n",
        "ordinales_pipe = Pipeline([\n",
        "    (\"Scaler\", StandardScaler()),\n",
        "    (\"OrdinalEncoder\", OrdinalEncoder())\n",
        "])\n",
        "ordinales_pipe_nombres = lista_paper_ord\n",
        "\n",
        "\n",
        "\n",
        "# Conjuntas las transformaciones de todo tipo de variable y\n",
        "# deja sin procesar aquellas que hayas decidido no transformar:\n",
        "\n",
        "columnasTransformer = ColumnTransformer([\n",
        "    ('numericas', numericas_pipe, numericas_pipe_nombres),\n",
        "    ('nominales', nominales_pipe, nominales_pipe_nombres),\n",
        "    ('ordinales', ordinales_pipe, ordinales_pipe_nombres)\n",
        "])\n",
        "\n",
        "\n",
        "\n",
        "# *********** Aquí termina la sección de agregar código *************\n",
        "\n",
        "\n",
        "\n",
        "Xtmp = Xtrain.copy()\n",
        "tmp = columnasTransformer.fit_transform(Xtmp)\n",
        "print(\"Dimensión de los datos de entrada:\")\n",
        "print(\"antes de aplicar las transformaciones:\", Xtmp.shape)\n",
        "print(\"después de aplicar las transformaciones:\", tmp.shape)\n"
      ]
    },
    {
      "cell_type": "markdown",
      "metadata": {
        "id": "UJokj9Diyeu0"
      },
      "source": [
        "## **Ejercicio 6**"
      ]
    },
    {
      "cell_type": "code",
      "execution_count": 59,
      "metadata": {
        "id": "d3lqBiH5wd1e",
        "colab": {
          "base_uri": "https://localhost:8080/"
        },
        "outputId": "c6e5db08-6322-4c89-e525-2aba060c4af7"
      },
      "outputs": [
        {
          "output_type": "stream",
          "name": "stdout",
          "text": [
            "Dimensión de las variables de entrada ANTES de las transformaciones: (1000, 20)\n",
            "Dimensión de las variables de entrada DESPUÉS de las transformaciones: (1000, 20)\n"
          ]
        }
      ],
      "source": [
        "# Como se va a utilizar Validación-Cruzada, concatena los conjuntos de entrenamiento\n",
        "# y prueba en uno nuevo conjunto aumentado que llamaremos trainval:\n",
        "\n",
        "\n",
        "# ************* Inlcuye aquí tu código:**************************\n",
        "\n",
        "\n",
        "Xtraintest = pd.concat([Xtrain, Xtest], axis =0, ignore_index=True)\n",
        "ytraintest = pd.concat([ytrain, ytest], axis =0, ignore_index=True)\n",
        "\n",
        "\n",
        "# *********** Aquí termina la sección de agregar código *************\n",
        "\n",
        "\n",
        "# Veamos cuántas variables nuevas se introducen con las transformaciones One-Hot-Encoding:\n",
        "Xtmp = Xtraintest.copy()\n",
        "tmp = columnasTransformer.fit_transform(Xtmp)\n",
        "print(\"Dimensión de las variables de entrada ANTES de las transformaciones:\", Xtmp.shape)\n",
        "print(\"Dimensión de las variables de entrada DESPUÉS de las transformaciones:\", tmp.shape)"
      ]
    },
    {
      "cell_type": "markdown",
      "metadata": {
        "id": "hZxyRbHL0gNF"
      },
      "source": [
        "## **Ejercicio 7**"
      ]
    },
    {
      "cell_type": "code",
      "source": [
        "# Definimos una función que evaluará cada modelo con diferentes tipos de métricas,\n",
        "# así como incluyendo algún método de submuestreo o sobremuestreo.\n",
        "\n",
        "!pip install imblearn\n",
        "from imblearn.pipeline import Pipeline as ImbPipeline # Import ImbPipeline\n",
        "\n",
        "from sklearn.model_selection import cross_validate\n",
        "from sklearn.model_selection import RepeatedStratifiedKFold\n",
        "\n",
        "from sklearn.metrics import make_scorer\n",
        "from imblearn.metrics import geometric_mean_score\n",
        "\n",
        "\n",
        "def mi_fun(modelo, nombre, Xtraintest, ytraintest, metodo_uo=None):\n",
        "        \"\"\"\n",
        "        Se lleva a cabo el proceso de entrenamiento y evaluación\n",
        "        con diferentes métricas.\n",
        "        Args:\n",
        "             modelo: modelo con la configuración deseada\n",
        "             nombre: nombre del modelo\n",
        "             Xtriantest, ytraintest: Variables de entrada y variable de salida\n",
        "             mod_uo: método de submuestreo o sobremuestreo, si aplica.\n",
        "        \"\"\"\n",
        "\n",
        "        pipeline = ImbPipeline(steps=[\n",
        "            ('sub_sobre_muestreo', metodo_uo),\n",
        "            ('model', modelo)\n",
        "        ])\n",
        "\n",
        "        micv = RepeatedStratifiedKFold(n_splits=5, n_repeats=3, random_state=5)\n",
        "        mismetricas = {\n",
        "            'miaccuracy': 'accuracy',\n",
        "            'miprecision': 'precision',\n",
        "            'mirecall': 'recall',\n",
        "            'mifi': 'f1',\n",
        "            'miauc': 'roc_auc',\n",
        "            'migmean': make_scorer(geometric_mean_score)\n",
        "        }\n",
        "\n",
        "        scores = cross_validate(pipeline, Xtraintest, np.ravel(ytraintest), scoring=mismetricas, cv=micv, return_train_score=True)\n",
        "\n",
        "        print('>> %s' % nombre)\n",
        "        for j, k in enumerate(list(scores.keys())):\n",
        "            if j > 1:\n",
        "                print('\\t %s %.4f (%.3f)' % (k, np.nanmean(scores[k]), np.nanstd(scores[k])))\n",
        "\n"
      ],
      "metadata": {
        "id": "cgCahRDyEMf9",
        "colab": {
          "base_uri": "https://localhost:8080/"
        },
        "outputId": "f1711434-4820-4b62-f476-384bf85e5028"
      },
      "execution_count": 60,
      "outputs": [
        {
          "output_type": "stream",
          "name": "stdout",
          "text": [
            "Requirement already satisfied: imblearn in /usr/local/lib/python3.11/dist-packages (0.0)\n",
            "Requirement already satisfied: imbalanced-learn in /usr/local/lib/python3.11/dist-packages (from imblearn) (0.13.0)\n",
            "Requirement already satisfied: numpy<3,>=1.24.3 in /usr/local/lib/python3.11/dist-packages (from imbalanced-learn->imblearn) (1.26.4)\n",
            "Requirement already satisfied: scipy<2,>=1.10.1 in /usr/local/lib/python3.11/dist-packages (from imbalanced-learn->imblearn) (1.13.1)\n",
            "Requirement already satisfied: scikit-learn<2,>=1.3.2 in /usr/local/lib/python3.11/dist-packages (from imbalanced-learn->imblearn) (1.6.1)\n",
            "Requirement already satisfied: sklearn-compat<1,>=0.1 in /usr/local/lib/python3.11/dist-packages (from imbalanced-learn->imblearn) (0.1.3)\n",
            "Requirement already satisfied: joblib<2,>=1.1.1 in /usr/local/lib/python3.11/dist-packages (from imbalanced-learn->imblearn) (1.4.2)\n",
            "Requirement already satisfied: threadpoolctl<4,>=2.0.0 in /usr/local/lib/python3.11/dist-packages (from imbalanced-learn->imblearn) (3.5.0)\n"
          ]
        }
      ]
    },
    {
      "cell_type": "markdown",
      "source": [
        "### **Ejercicio 7a: Regresión Logística**"
      ],
      "metadata": {
        "id": "j60KvQ0LjcgO"
      }
    },
    {
      "cell_type": "code",
      "source": [
        "# Regresión Logística - Logistic Regression-LR:\n",
        "# https://scikit-learn.org/stable/modules/generated/sklearn.linear_model.LogisticRegression.html\n",
        "\n",
        "# Puedes consultar la siguiente liga para los métodos de submuestreo o sobremuestreo:\n",
        "# https://imbalanced-learn.org/stable/references/over_sampling.html\n",
        "\n",
        "# ************* Inlcuye aquí tu código:**************************\n",
        "\n",
        "from imblearn.combine import SMOTETomek\n",
        "from imblearn.under_sampling import TomekLinks\n",
        "\n",
        "nombre = \"Regresión_Logística\"\n",
        "\n",
        "# Selecciona la configuración de valores de hiperparámetros que consideres\n",
        "# te da el mejor desempeño:\n",
        "modelo = LogisticRegression( max_iter=7000 )\n",
        "\"\"\"\n",
        "LogisticRegression(penalty='l2', dual=False, tol=0.0001, C=1.0, fit_intercept=True,\n",
        "intercept_scaling=1, class_weight=None, random_state=None, solver='lbfgs', max_iter=100,\n",
        "multi_class='deprecated', verbose=0, warm_start=False, n_jobs=None, l1_ratio=None)\n",
        "\"\"\"\n",
        "\n",
        "# Selecciona el método de submuestreo o sobremuestreo, si lo deseas incluir.\n",
        "# metodo_uo=None\n",
        "metodo_uo = SMOTETomek(tomek=TomekLinks(sampling_strategy='majority'), random_state=42)\n",
        "\n",
        "\n",
        "# *********** Aquí termina la sección de agregar código *************\n",
        "\n",
        "\n",
        "# Evaluemos la configuración seleccionada:\n",
        "mi_fun(modelo,nombre, Xtraintest, ytraintest, metodo_uo)\n"
      ],
      "metadata": {
        "id": "wYQegVU7nMki",
        "colab": {
          "base_uri": "https://localhost:8080/"
        },
        "outputId": "ca4c5f2e-dad2-49a8-f59f-e04ea7105a66"
      },
      "execution_count": 61,
      "outputs": [
        {
          "output_type": "stream",
          "name": "stdout",
          "text": [
            ">> Regresión_Logística\n",
            "\t test_miaccuracy 0.7257 (0.023)\n",
            "\t train_miaccuracy 0.7350 (0.008)\n",
            "\t test_miprecision 0.5351 (0.032)\n",
            "\t train_miprecision 0.5458 (0.010)\n",
            "\t test_mirecall 0.6656 (0.061)\n",
            "\t train_mirecall 0.6958 (0.015)\n",
            "\t test_mifi 0.5921 (0.036)\n",
            "\t train_mifi 0.6117 (0.011)\n",
            "\t test_miauc 0.7757 (0.028)\n",
            "\t train_miauc 0.7978 (0.007)\n",
            "\t test_migmean 0.7060 (0.031)\n",
            "\t train_migmean 0.7232 (0.009)\n"
          ]
        }
      ]
    },
    {
      "cell_type": "markdown",
      "source": [
        "### **Ejercicio 7b: k-Vecinos Más Cercanos (kNN)**"
      ],
      "metadata": {
        "id": "2x_t7QR3rqeX"
      }
    },
    {
      "cell_type": "code",
      "source": [
        "# k-Vecinos más Cercanos : k-Nearest-Neighbors-kNN:\n",
        "# https://scikit-learn.org/stable/modules/generated/sklearn.neighbors.KNeighborsClassifier.html\n",
        "\n",
        "\n",
        "# ************* Inlcuye aquí tu código:**************************\n",
        "from sklearn.neighbors import KNeighborsClassifier\n",
        "\n",
        "nombre = \"K_Nearest_Neighbors\"\n",
        "modelo = KNeighborsClassifier(n_neighbors=5, weights='uniform', algorithm='auto',\n",
        "                              leaf_size=30, p=2, metric='minkowski', metric_params=None,\n",
        "                              n_jobs=None)\n",
        "metodo_uo = SMOTETomek(tomek=TomekLinks(sampling_strategy='majority'), random_state=42)\n",
        "\n",
        "# *********** Aquí termina la sección de agregar código *************\n",
        "\n",
        "\n",
        "# Evaluemos la configuración seleccionada:\n",
        "mi_fun(modelo, nombre, Xtraintest, ytraintest, metodo_uo)\n"
      ],
      "metadata": {
        "id": "k4ySsyhfrnXI",
        "colab": {
          "base_uri": "https://localhost:8080/"
        },
        "outputId": "2525de9e-bfe5-4b12-e810-44425f2f8b5f"
      },
      "execution_count": 62,
      "outputs": [
        {
          "output_type": "stream",
          "name": "stdout",
          "text": [
            ">> K_Nearest_Neighbors\n",
            "\t test_miaccuracy 0.5360 (0.032)\n",
            "\t train_miaccuracy 0.7014 (0.012)\n",
            "\t test_miprecision 0.3378 (0.032)\n",
            "\t train_miprecision 0.5017 (0.012)\n",
            "\t test_mirecall 0.5711 (0.073)\n",
            "\t train_mirecall 0.8356 (0.017)\n",
            "\t test_mifi 0.4239 (0.043)\n",
            "\t train_mifi 0.6268 (0.011)\n",
            "\t test_miauc 0.5674 (0.044)\n",
            "\t train_miauc 0.8272 (0.010)\n",
            "\t test_migmean 0.5437 (0.038)\n",
            "\t train_migmean 0.7334 (0.011)\n"
          ]
        }
      ]
    },
    {
      "cell_type": "markdown",
      "source": [
        "### **Ejercicio 7c: Arbol de decisiones**"
      ],
      "metadata": {
        "id": "YA89QvpWrxHW"
      }
    },
    {
      "cell_type": "code",
      "source": [
        "# Árbol de decisiones-DecisionTree-DT:\n",
        "# https://scikit-learn.org/stable/modules/generated/sklearn.tree.DecisionTreeClassifier.html\n",
        "\n",
        "\n",
        "# ************* Inlcuye aquí tu código:**************************\n",
        "\n",
        "from sklearn.tree import DecisionTreeClassifier\n",
        "\n",
        "\n",
        "nombre = \"Decision_Tree\"\n",
        "modelo = DecisionTreeClassifier(criterion='gini', splitter='best', max_depth=6,\n",
        "                                min_samples_split=2, min_samples_leaf=1, min_weight_fraction_leaf=0.0,\n",
        "                                max_features=None, random_state=42, max_leaf_nodes=None, min_impurity_decrease=0.0,\n",
        "                                class_weight=None, ccp_alpha=0.0, monotonic_cst=None)\n",
        "# Library\n",
        "# https://scikit-learn.org/stable/modules/generated/sklearn.tree.DecisionTreeClassifier.html\n",
        "\n",
        "metodo_uo = SMOTETomek(tomek=TomekLinks(sampling_strategy='majority'), random_state=42)\n",
        "\n",
        "# *********** Aquí termina la sección de agregar código *************\n",
        "\n",
        "\n",
        "# Evaluemos la configuración seleccionada:\n",
        "mi_fun(modelo, nombre, Xtraintest, ytraintest, metodo_uo)\n"
      ],
      "metadata": {
        "id": "j7DvXFztrnUH",
        "colab": {
          "base_uri": "https://localhost:8080/"
        },
        "outputId": "ed606a41-53fc-4325-b473-342d1548a1ee"
      },
      "execution_count": 63,
      "outputs": [
        {
          "output_type": "stream",
          "name": "stdout",
          "text": [
            ">> Decision_Tree\n",
            "\t test_miaccuracy 0.6787 (0.027)\n",
            "\t train_miaccuracy 0.7788 (0.015)\n",
            "\t test_miprecision 0.4776 (0.029)\n",
            "\t train_miprecision 0.5947 (0.024)\n",
            "\t test_mirecall 0.6822 (0.054)\n",
            "\t train_mirecall 0.8375 (0.031)\n",
            "\t test_mifi 0.5602 (0.024)\n",
            "\t train_mifi 0.6946 (0.011)\n",
            "\t test_miauc 0.6998 (0.029)\n",
            "\t train_miauc 0.8664 (0.010)\n",
            "\t test_migmean 0.6779 (0.021)\n",
            "\t train_migmean 0.7939 (0.008)\n"
          ]
        }
      ]
    },
    {
      "cell_type": "markdown",
      "source": [
        "### **Ejercicio 7d: Bosque Aleatorio - Random Forest**"
      ],
      "metadata": {
        "id": "vqZs2-isr3JG"
      }
    },
    {
      "cell_type": "code",
      "source": [
        "# Bosque Aleatorio-RandomForest-RF:\n",
        "# https://scikit-learn.org/stable/modules/generated/sklearn.ensemble.RandomForestClassifier.html\n",
        "\n",
        "\n",
        "# ************* Inlcuye aquí tu código:**************************\n",
        "\n",
        "nombre = \"Random_Forest\"\n",
        "modelo = RandomForestClassifier(n_estimators=100, criterion='gini', max_depth=5,\n",
        "                                min_samples_split=2, min_samples_leaf=1, min_weight_fraction_leaf=0.0,\n",
        "                                max_features='sqrt', max_leaf_nodes=None, min_impurity_decrease=0.0,\n",
        "                                bootstrap=True, oob_score=False, n_jobs=None, random_state=42,\n",
        "                                verbose=0, warm_start=False, class_weight=None, ccp_alpha=0.0,\n",
        "                                max_samples=None, monotonic_cst=None)\n",
        "# Library:\n",
        "# https://scikit-learn.org/stable/modules/generated/sklearn.ensemble.RandomForestClassifier.html\n",
        "\n",
        "metodo_uo = SMOTETomek(tomek=TomekLinks(sampling_strategy='majority'), random_state=42)\n",
        "\n",
        "# *********** Aquí termina la sección de agregar código *************\n",
        "\n",
        "\n",
        "# Evaluemos la configuración seleccionada:\n",
        "mi_fun(modelo, nombre, Xtraintest, ytraintest, metodo_uo)\n"
      ],
      "metadata": {
        "id": "qDbkUjaZrnQ2",
        "colab": {
          "base_uri": "https://localhost:8080/"
        },
        "outputId": "a651a16c-3dda-4fb2-c390-2dd279df22b4"
      },
      "execution_count": 64,
      "outputs": [
        {
          "output_type": "stream",
          "name": "stdout",
          "text": [
            ">> Random_Forest\n",
            "\t test_miaccuracy 0.7083 (0.032)\n",
            "\t train_miaccuracy 0.7769 (0.010)\n",
            "\t test_miprecision 0.5120 (0.040)\n",
            "\t train_miprecision 0.5930 (0.014)\n",
            "\t test_mirecall 0.7100 (0.070)\n",
            "\t train_mirecall 0.8194 (0.013)\n",
            "\t test_mifi 0.5933 (0.041)\n",
            "\t train_mifi 0.6880 (0.011)\n",
            "\t test_miauc 0.7683 (0.023)\n",
            "\t train_miauc 0.8741 (0.005)\n",
            "\t test_migmean 0.7072 (0.035)\n",
            "\t train_migmean 0.7884 (0.009)\n"
          ]
        }
      ]
    },
    {
      "cell_type": "markdown",
      "source": [
        "### **Ejercicio 7e: XGBoosting**"
      ],
      "metadata": {
        "id": "CJiZcCyGr9Km"
      }
    },
    {
      "cell_type": "code",
      "source": [
        "# XGBoosting:\n",
        "# https://xgboost.readthedocs.io/en/latest/python/python_api.html#xgboost.XGBClassifier\n",
        "# https://xgboost.readthedocs.io/en/stable/parameter.html\n",
        "\n",
        "\n",
        "# ************* Inlcuye aquí tu código:**************************\n",
        "\n",
        "from xgboost import XGBClassifier\n",
        "\n",
        "nombre = \"XG_Boosting\"\n",
        "modelo = XGBClassifier(n_estimators=100, max_depth=3, learning_rate=0.1, random_state=42,\n",
        "                       eval_metric='logloss')\n",
        "# Library\n",
        "# https://xgboost.readthedocs.io/en/latest/parameter.html\n",
        "\n",
        "metodo_uo = SMOTETomek(tomek=TomekLinks(sampling_strategy='majority'), random_state=42)\n",
        "\n",
        "# *********** Aquí termina la sección de agregar código *************\n",
        "\n",
        "\n",
        "# Evaluemos la configuración seleccionada:\n",
        "mi_fun(modelo, nombre, Xtraintest, ytraintest, metodo_uo)\n"
      ],
      "metadata": {
        "id": "FUW1KQmsrnN2",
        "colab": {
          "base_uri": "https://localhost:8080/"
        },
        "outputId": "bfec71dc-187b-436c-ac7e-92b72e940967"
      },
      "execution_count": 65,
      "outputs": [
        {
          "output_type": "stream",
          "name": "stdout",
          "text": [
            ">> XG_Boosting\n",
            "\t test_miaccuracy 0.7313 (0.023)\n",
            "\t train_miaccuracy 0.8402 (0.008)\n",
            "\t test_miprecision 0.5462 (0.038)\n",
            "\t train_miprecision 0.7005 (0.013)\n",
            "\t test_mirecall 0.6567 (0.056)\n",
            "\t train_mirecall 0.8172 (0.015)\n",
            "\t test_mifi 0.5943 (0.029)\n",
            "\t train_mifi 0.7543 (0.011)\n",
            "\t test_miauc 0.7813 (0.025)\n",
            "\t train_miauc 0.9171 (0.008)\n",
            "\t test_migmean 0.7066 (0.023)\n",
            "\t train_migmean 0.8335 (0.009)\n"
          ]
        }
      ]
    },
    {
      "cell_type": "markdown",
      "source": [
        "### **Ejercicio 7f: Red Neuronal Multicapa (MLP)**"
      ],
      "metadata": {
        "id": "gDtBaZTxsDRe"
      }
    },
    {
      "cell_type": "code",
      "source": [
        "# Red neuronal de Perceptrón Multicapa-MLP:\n",
        "# https://scikit-learn.org/stable/modules/generated/sklearn.neural_network.MLPClassifier.html\n",
        "\n",
        "\n",
        "# ************* Inlcuye aquí tu código:**************************\n",
        "\n",
        "from sklearn.neural_network import MLPClassifier\n",
        "\n",
        "nombre = \"Multi_Layer_Perceptron\"\n",
        "modelo = MLPClassifier(hidden_layer_sizes=(100,), activation='relu', solver='adam', alpha=0.0001,\n",
        "                       batch_size='auto', learning_rate='constant', learning_rate_init=0.001,\n",
        "                       power_t=0.5, max_iter=300, shuffle=True, random_state=42,\n",
        "                       tol=0.0001, verbose=False, warm_start=False, momentum=0.9,\n",
        "                       nesterovs_momentum=True, early_stopping=False, validation_fraction=0.1,\n",
        "                       beta_1=0.9, beta_2=0.999, epsilon=1e-08, n_iter_no_change=10, max_fun=15000)\n",
        "\n",
        "metodo_uo = SMOTETomek(tomek=TomekLinks(sampling_strategy='majority'), random_state=42)\n",
        "\n",
        "# *********** Aquí termina la sección de agregar código *************\n",
        "\n",
        "\n",
        "# Evaluemos la configuración seleccionada:\n",
        "mi_fun(modelo, nombre, Xtraintest, ytraintest, metodo_uo)\n"
      ],
      "metadata": {
        "id": "1ijo8KULnPu2",
        "colab": {
          "base_uri": "https://localhost:8080/"
        },
        "outputId": "ede64941-67da-450f-8161-74ebf6cfaded"
      },
      "execution_count": 66,
      "outputs": [
        {
          "output_type": "stream",
          "name": "stderr",
          "text": [
            "/usr/local/lib/python3.11/dist-packages/sklearn/metrics/_classification.py:1565: UndefinedMetricWarning: Precision is ill-defined and being set to 0.0 due to no predicted samples. Use `zero_division` parameter to control this behavior.\n",
            "  _warn_prf(average, modifier, f\"{metric.capitalize()} is\", len(result))\n",
            "/usr/local/lib/python3.11/dist-packages/sklearn/metrics/_classification.py:1565: UndefinedMetricWarning: Precision is ill-defined and being set to 0.0 due to no predicted samples. Use `zero_division` parameter to control this behavior.\n",
            "  _warn_prf(average, modifier, f\"{metric.capitalize()} is\", len(result))\n",
            "/usr/local/lib/python3.11/dist-packages/sklearn/metrics/_classification.py:1565: UndefinedMetricWarning: Precision is ill-defined and being set to 0.0 due to no predicted samples. Use `zero_division` parameter to control this behavior.\n",
            "  _warn_prf(average, modifier, f\"{metric.capitalize()} is\", len(result))\n"
          ]
        },
        {
          "output_type": "stream",
          "name": "stdout",
          "text": [
            ">> Multi_Layer_Perceptron\n",
            "\t test_miaccuracy 0.6387 (0.100)\n",
            "\t train_miaccuracy 0.6422 (0.103)\n",
            "\t test_miprecision 0.3994 (0.313)\n",
            "\t train_miprecision 0.6807 (0.277)\n",
            "\t test_mirecall 0.3567 (0.353)\n",
            "\t train_mirecall 0.3650 (0.347)\n",
            "\t test_mifi 0.2716 (0.220)\n",
            "\t train_mifi 0.2846 (0.215)\n",
            "\t test_miauc 0.6830 (0.050)\n",
            "\t train_miauc 0.6643 (0.044)\n",
            "\t test_migmean 0.3338 (0.247)\n",
            "\t train_migmean 0.3640 (0.221)\n"
          ]
        },
        {
          "output_type": "stream",
          "name": "stderr",
          "text": [
            "/usr/local/lib/python3.11/dist-packages/sklearn/metrics/_classification.py:1565: UndefinedMetricWarning: Precision is ill-defined and being set to 0.0 due to no predicted samples. Use `zero_division` parameter to control this behavior.\n",
            "  _warn_prf(average, modifier, f\"{metric.capitalize()} is\", len(result))\n"
          ]
        }
      ]
    },
    {
      "cell_type": "markdown",
      "source": [
        "### **Ejercicio 7g: Máquina de Vector Soporte (SVM)**"
      ],
      "metadata": {
        "id": "OIkSmzaPsOiN"
      }
    },
    {
      "cell_type": "code",
      "source": [
        "# Máquina de Vectores de Soporte-SVM:\n",
        "# https://scikit-learn.org/stable/modules/generated/sklearn.svm.SVC.html\n",
        "\n",
        "\n",
        "# ************* Inlcuye aquí tu código:**************************\n",
        "\n",
        "from sklearn.svm import SVC\n",
        "\n",
        "nombre = \"SVM\"\n",
        "modelo = SVC(C=1.0, kernel='rbf', degree=3, gamma='scale', coef0=0.0, shrinking=True,\n",
        "             probability=False, tol=0.001, cache_size=200, class_weight=None, verbose=False,\n",
        "             max_iter=-1, decision_function_shape='ovr', break_ties=False, random_state=None)\n",
        "\n",
        "metodo_uo = SMOTETomek(tomek=TomekLinks(sampling_strategy='majority'), random_state=42)\n",
        "\n",
        "# *********** Aquí termina la sección de agregar código *************\n",
        "\n",
        "\n",
        "# Evaluemos la configuración seleccionada:\n",
        "mi_fun(modelo, nombre, Xtraintest, ytraintest, metodo_uo)\n"
      ],
      "metadata": {
        "id": "9OgIHFIdnPrc",
        "colab": {
          "base_uri": "https://localhost:8080/"
        },
        "outputId": "96ab3726-29bc-453f-97bb-5dc4d5392e82"
      },
      "execution_count": 67,
      "outputs": [
        {
          "output_type": "stream",
          "name": "stdout",
          "text": [
            ">> SVM\n",
            "\t test_miaccuracy 0.5717 (0.113)\n",
            "\t train_miaccuracy 0.5846 (0.118)\n",
            "\t test_miprecision 0.3528 (0.059)\n",
            "\t train_miprecision 0.3780 (0.043)\n",
            "\t test_mirecall 0.4489 (0.236)\n",
            "\t train_mirecall 0.4744 (0.213)\n",
            "\t test_mifi 0.3705 (0.069)\n",
            "\t train_mifi 0.3976 (0.029)\n",
            "\t test_miauc 0.5537 (0.045)\n",
            "\t train_miauc 0.5657 (0.019)\n",
            "\t test_migmean 0.4364 (0.178)\n",
            "\t train_migmean 0.4607 (0.181)\n"
          ]
        }
      ]
    },
    {
      "cell_type": "markdown",
      "metadata": {
        "id": "4JkGo57zMXqn"
      },
      "source": [
        "## **Ejercicio 8**"
      ]
    },
    {
      "cell_type": "code",
      "source": [
        "# Incluye el reporte del mejor modelo solicitado en el archivo PDF:\n",
        "\n",
        "None"
      ],
      "metadata": {
        "id": "R-UflBezs4q2"
      },
      "execution_count": 68,
      "outputs": []
    },
    {
      "cell_type": "markdown",
      "source": [
        "## **Ejercicio 9**"
      ],
      "metadata": {
        "id": "d8cEISnQs8Ol"
      }
    },
    {
      "cell_type": "markdown",
      "metadata": {
        "id": "n04HnK-ZX4vl"
      },
      "source": [
        "### **Escribe tus conclusiones finales de la actividad.**"
      ]
    },
    {
      "cell_type": "markdown",
      "metadata": {
        "id": "R7s7iDgKYEn9"
      },
      "source": [
        "### ++++++++ Inicia la sección de agregar texto: +++++++++++\n",
        "\n",
        "None\n",
        "\n",
        "\n",
        "### ++++++++ Termina la sección de agregar texto. +++++++++++\n"
      ]
    },
    {
      "cell_type": "markdown",
      "metadata": {
        "id": "v-tW_CdUYMdl"
      },
      "source": [
        ">> ### **Fin de la Actividad de las Semanas 5 y 6.**"
      ]
    }
  ],
  "metadata": {
    "colab": {
      "provenance": [],
      "collapsed_sections": [
        "a08Di3GjkL1Y",
        "LckYCS8SlnFo",
        "qQx2lbzTkEsQ",
        "ocmGcSC2j_2x",
        "zb5bE4WJj8Rw",
        "UJokj9Diyeu0",
        "hZxyRbHL0gNF",
        "j60KvQ0LjcgO",
        "2x_t7QR3rqeX",
        "YA89QvpWrxHW",
        "vqZs2-isr3JG",
        "CJiZcCyGr9Km",
        "gDtBaZTxsDRe",
        "OIkSmzaPsOiN",
        "4JkGo57zMXqn",
        "d8cEISnQs8Ol"
      ]
    },
    "kernelspec": {
      "display_name": "Python 3 (ipykernel)",
      "language": "python",
      "name": "python3"
    },
    "language_info": {
      "codemirror_mode": {
        "name": "ipython",
        "version": 3
      },
      "file_extension": ".py",
      "mimetype": "text/x-python",
      "name": "python",
      "nbconvert_exporter": "python",
      "pygments_lexer": "ipython3",
      "version": "3.9.13"
    }
  },
  "nbformat": 4,
  "nbformat_minor": 0
}