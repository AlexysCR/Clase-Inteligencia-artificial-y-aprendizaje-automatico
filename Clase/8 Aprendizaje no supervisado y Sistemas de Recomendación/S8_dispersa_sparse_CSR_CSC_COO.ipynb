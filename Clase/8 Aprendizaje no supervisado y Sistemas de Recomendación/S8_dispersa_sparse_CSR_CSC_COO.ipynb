{
  "nbformat": 4,
  "nbformat_minor": 0,
  "metadata": {
    "colab": {
      "provenance": []
    },
    "kernelspec": {
      "name": "python3",
      "display_name": "Python 3"
    }
  },
  "cells": [
    {
      "cell_type": "markdown",
      "source": [
        "# **Ejemplos de matrices Dispersas (sparse matrices)**"
      ],
      "metadata": {
        "id": "gS6rCI3QVPWG"
      }
    },
    {
      "cell_type": "markdown",
      "metadata": {
        "id": "vEjtmvzsz1Cj"
      },
      "source": [
        "https://docs.scipy.org/doc/scipy/reference/sparse.html"
      ]
    },
    {
      "cell_type": "code",
      "metadata": {
        "id": "jnkjcTTHrg6t"
      },
      "source": [
        "import numpy as np\n",
        "from scipy import sparse"
      ],
      "execution_count": null,
      "outputs": []
    },
    {
      "cell_type": "code",
      "metadata": {
        "colab": {
          "base_uri": "https://localhost:8080/"
        },
        "id": "PDeZuq3Aq0U1",
        "outputId": "1696d9ec-b68b-41b7-a3b7-9a9235546758"
      },
      "source": [
        "A = np.array([[0, 0, 9, 0, 3, 0], [0, 0, 7, 0, 0, 0],\n",
        "              [0, -1, 0, 0, 0, 4], [2, 6, 0, 8, 0, 0]], dtype=np.int64)\n",
        "\n",
        "A    # representación densa."
      ],
      "execution_count": null,
      "outputs": [
        {
          "output_type": "execute_result",
          "data": {
            "text/plain": [
              "array([[ 0,  0,  9,  0,  3,  0],\n",
              "       [ 0,  0,  7,  0,  0,  0],\n",
              "       [ 0, -1,  0,  0,  0,  4],\n",
              "       [ 2,  6,  0,  8,  0,  0]])"
            ]
          },
          "metadata": {},
          "execution_count": 2
        }
      ]
    },
    {
      "cell_type": "markdown",
      "metadata": {
        "id": "yusqZCdeP0wJ"
      },
      "source": [
        "#**Ejemplo CSR: Compressed Sparse Row**"
      ]
    },
    {
      "cell_type": "code",
      "metadata": {
        "colab": {
          "base_uri": "https://localhost:8080/"
        },
        "id": "84sUKXuprkAn",
        "outputId": "984656c5-5468-40cd-a292-96ab67b866fd"
      },
      "source": [
        "B = sparse.csr_matrix(A)     # transformación a una representación dispersa (sparse).\n",
        "\n",
        "B"
      ],
      "execution_count": null,
      "outputs": [
        {
          "output_type": "execute_result",
          "data": {
            "text/plain": [
              "<4x6 sparse matrix of type '<class 'numpy.int64'>'\n",
              "\twith 8 stored elements in Compressed Sparse Row format>"
            ]
          },
          "metadata": {},
          "execution_count": 3
        }
      ]
    },
    {
      "cell_type": "code",
      "source": [
        "print(B)"
      ],
      "metadata": {
        "colab": {
          "base_uri": "https://localhost:8080/"
        },
        "id": "yhq6d9PuSatb",
        "outputId": "359fc6a4-912e-4c74-88d0-7031a198eb5e"
      },
      "execution_count": null,
      "outputs": [
        {
          "output_type": "stream",
          "name": "stdout",
          "text": [
            "  (0, 2)\t9\n",
            "  (0, 4)\t3\n",
            "  (1, 2)\t7\n",
            "  (2, 1)\t-1\n",
            "  (2, 5)\t4\n",
            "  (3, 0)\t2\n",
            "  (3, 1)\t6\n",
            "  (3, 3)\t8\n"
          ]
        }
      ]
    },
    {
      "cell_type": "code",
      "metadata": {
        "colab": {
          "base_uri": "https://localhost:8080/"
        },
        "id": "ZymTUZ30pJYg",
        "outputId": "24c0978e-64e9-49b3-bde4-301859f9989f"
      },
      "source": [
        "# Simple-triplet-matrix representation:\n",
        "\n",
        "print(B.indptr)\n",
        "print(B.indices)\n",
        "print(B.data)"
      ],
      "execution_count": null,
      "outputs": [
        {
          "output_type": "stream",
          "name": "stdout",
          "text": [
            "[0 2 3 5 8]\n",
            "[2 4 2 1 5 0 1 3]\n",
            "[ 9  3  7 -1  4  2  6  8]\n"
          ]
        }
      ]
    },
    {
      "cell_type": "code",
      "metadata": {
        "colab": {
          "base_uri": "https://localhost:8080/"
        },
        "id": "GYG2aPZ39Xd6",
        "outputId": "5ed6d9bb-e655-47db-f674-fce2854f560d"
      },
      "source": [
        "# Podemos obtener las coordenadas de los valores no cero:\n",
        "rows, cols = B.nonzero()\n",
        "print(rows)\n",
        "print(cols)"
      ],
      "execution_count": null,
      "outputs": [
        {
          "output_type": "stream",
          "name": "stdout",
          "text": [
            "[0 0 1 2 2 3 3 3]\n",
            "[2 4 2 1 5 0 1 3]\n"
          ]
        }
      ]
    },
    {
      "cell_type": "code",
      "metadata": {
        "colab": {
          "base_uri": "https://localhost:8080/"
        },
        "id": "Bvi_9GsL4Q9z",
        "outputId": "83fab347-0f62-46d9-e825-ec5842b55e9f"
      },
      "source": [
        "print(B.data)   # también los valores no cero, solamente."
      ],
      "execution_count": null,
      "outputs": [
        {
          "output_type": "stream",
          "name": "stdout",
          "text": [
            "[ 9  3  7 -1  4  2  6  8]\n"
          ]
        }
      ]
    },
    {
      "cell_type": "code",
      "source": [
        "# Podemos llevar a cabo operaciones de matrices de la manera usual.\n",
        "# Por ejemplo, si queremos encontrar el producto de B con su\n",
        "# traspuesta lo hacemos de la manera estándar de multiplicación\n",
        "# de matrices, e internamente la librería SciPy se encarga de\n",
        "# llevar a cabo dicha operación:\n",
        "\n",
        "F = B @ B.T\n",
        "F   # observa que de manera predeterminada no se despliega la información del producto."
      ],
      "metadata": {
        "colab": {
          "base_uri": "https://localhost:8080/"
        },
        "id": "-6Jq-sznl1hq",
        "outputId": "1347654f-3a80-48ec-a598-2d9ef469bdfe"
      },
      "execution_count": null,
      "outputs": [
        {
          "output_type": "execute_result",
          "data": {
            "text/plain": [
              "<4x4 sparse matrix of type '<class 'numpy.int64'>'\n",
              "\twith 8 stored elements in Compressed Sparse Row format>"
            ]
          },
          "metadata": {},
          "execution_count": 8
        }
      ]
    },
    {
      "cell_type": "code",
      "metadata": {
        "colab": {
          "base_uri": "https://localhost:8080/"
        },
        "id": "UhRNHzQY0QkH",
        "outputId": "4cc4149e-3c80-4adb-ba21-bd1b11cf3b8c"
      },
      "source": [
        "F.todense()   # Si deseas visualizar el resultado y ver toda la matriz."
      ],
      "execution_count": null,
      "outputs": [
        {
          "output_type": "execute_result",
          "data": {
            "text/plain": [
              "matrix([[ 90,  63,   0,   0],\n",
              "        [ 63,  49,   0,   0],\n",
              "        [  0,   0,  17,  -6],\n",
              "        [  0,   0,  -6, 104]])"
            ]
          },
          "metadata": {},
          "execution_count": 9
        }
      ]
    },
    {
      "cell_type": "code",
      "source": [
        "F.toarray()   # también podemos hacerla densa de esta otra forma.\n",
        "              # Por cierto, este resultado nos lleva a las llamadas matrices por bloques."
      ],
      "metadata": {
        "colab": {
          "base_uri": "https://localhost:8080/"
        },
        "id": "lBtaChihl82m",
        "outputId": "2d915fcf-d18b-432e-e03b-aa64f1c7c78c"
      },
      "execution_count": null,
      "outputs": [
        {
          "output_type": "execute_result",
          "data": {
            "text/plain": [
              "array([[ 90,  63,   0,   0],\n",
              "       [ 63,  49,   0,   0],\n",
              "       [  0,   0,  17,  -6],\n",
              "       [  0,   0,  -6, 104]])"
            ]
          },
          "metadata": {},
          "execution_count": 10
        }
      ]
    },
    {
      "cell_type": "markdown",
      "source": [
        "#### **Pero recuerda, solamente para casos sencillos despliega la matriz en su forma densa, porque de lo contrario puedes tener problemas de recursos de memoria.**"
      ],
      "metadata": {
        "id": "lCbOd-1gmM2N"
      }
    },
    {
      "cell_type": "code",
      "metadata": {
        "colab": {
          "base_uri": "https://localhost:8080/"
        },
        "id": "i_kUKUcCyUhG",
        "outputId": "339fcd49-8bc6-41e1-fa56-a25a585a8e53"
      },
      "source": [
        "# Si deseas determinar la cantidad de valores no cero que tiene una matriz:\n",
        "np.count_nonzero(A)"
      ],
      "execution_count": null,
      "outputs": [
        {
          "output_type": "execute_result",
          "data": {
            "text/plain": [
              "8"
            ]
          },
          "metadata": {},
          "execution_count": 11
        }
      ]
    },
    {
      "cell_type": "code",
      "metadata": {
        "colab": {
          "base_uri": "https://localhost:8080/"
        },
        "id": "S74QI-ocypXD",
        "outputId": "dd0e0171-91ab-4e34-c224-bd3aa97bcb77"
      },
      "source": [
        "A.size   # Y si deseas la cantidad de entradas que tiene una matriz: num_rows * num_cols"
      ],
      "execution_count": null,
      "outputs": [
        {
          "output_type": "execute_result",
          "data": {
            "text/plain": [
              "24"
            ]
          },
          "metadata": {},
          "execution_count": 12
        }
      ]
    },
    {
      "cell_type": "code",
      "metadata": {
        "colab": {
          "base_uri": "https://localhost:8080/"
        },
        "id": "WKGAmHMHydHj",
        "outputId": "d6ca3271-82ef-4800-d870-769aaf0c2010"
      },
      "source": [
        "# Con dichos valores puedes encontrar la cantidad de valores cero de la matriz (sparcity):\n",
        "sparsity = 1 - np.count_nonzero(A) / A.size\n",
        "sparsity"
      ],
      "execution_count": null,
      "outputs": [
        {
          "output_type": "execute_result",
          "data": {
            "text/plain": [
              "0.6666666666666667"
            ]
          },
          "metadata": {},
          "execution_count": 13
        }
      ]
    },
    {
      "cell_type": "markdown",
      "metadata": {
        "id": "pCox6H4cbGm6"
      },
      "source": [
        "#**Ejemplo CSC: Compressed Sparse Column**"
      ]
    },
    {
      "cell_type": "code",
      "source": [
        "C = np.array([[0, 0, 9, 0, 0, 0], [0, 0, 0, 0, 0, 0],\n",
        "              [0, -1, 7, 0, 0, 4], [2, 6, 0, 0, 0, 0]], dtype=np.int64)\n",
        "C"
      ],
      "metadata": {
        "colab": {
          "base_uri": "https://localhost:8080/"
        },
        "id": "JyHWk-oyS6D3",
        "outputId": "d21ec5f9-a8a0-409f-eee2-e7be3337d78c"
      },
      "execution_count": null,
      "outputs": [
        {
          "output_type": "execute_result",
          "data": {
            "text/plain": [
              "array([[ 0,  0,  9,  0,  0,  0],\n",
              "       [ 0,  0,  0,  0,  0,  0],\n",
              "       [ 0, -1,  7,  0,  0,  4],\n",
              "       [ 2,  6,  0,  0,  0,  0]])"
            ]
          },
          "metadata": {},
          "execution_count": 14
        }
      ]
    },
    {
      "cell_type": "code",
      "metadata": {
        "colab": {
          "base_uri": "https://localhost:8080/"
        },
        "id": "GMyhc58ztJ0_",
        "outputId": "f0fe6ac5-11b3-4024-8ab4-c77ae6ba021f"
      },
      "source": [
        "D = sparse.csc_matrix(C)\n",
        "\n",
        "D"
      ],
      "execution_count": null,
      "outputs": [
        {
          "output_type": "execute_result",
          "data": {
            "text/plain": [
              "<4x6 sparse matrix of type '<class 'numpy.int64'>'\n",
              "\twith 6 stored elements in Compressed Sparse Column format>"
            ]
          },
          "metadata": {},
          "execution_count": 15
        }
      ]
    },
    {
      "cell_type": "code",
      "source": [
        "print(D)"
      ],
      "metadata": {
        "colab": {
          "base_uri": "https://localhost:8080/"
        },
        "id": "dFggccsnTmnu",
        "outputId": "523658f6-c2a0-4974-8531-59d308472b91"
      },
      "execution_count": null,
      "outputs": [
        {
          "output_type": "stream",
          "name": "stdout",
          "text": [
            "  (3, 0)\t2\n",
            "  (2, 1)\t-1\n",
            "  (3, 1)\t6\n",
            "  (0, 2)\t9\n",
            "  (2, 2)\t7\n",
            "  (2, 5)\t4\n"
          ]
        }
      ]
    },
    {
      "cell_type": "code",
      "metadata": {
        "colab": {
          "base_uri": "https://localhost:8080/"
        },
        "id": "k2no-vejvx9g",
        "outputId": "63b683ae-19cd-4033-b838-fac0effc67d0"
      },
      "source": [
        "print(D.indptr)\n",
        "print(D.indices)\n",
        "print(D.data)"
      ],
      "execution_count": null,
      "outputs": [
        {
          "output_type": "stream",
          "name": "stdout",
          "text": [
            "[0 1 3 5 5 5 6]\n",
            "[3 2 3 0 2 2]\n",
            "[ 2 -1  6  9  7  4]\n"
          ]
        }
      ]
    },
    {
      "cell_type": "markdown",
      "metadata": {
        "id": "ka1qO7AfbUhy"
      },
      "source": [
        "#**Ejemplo COO: Coordinate format**"
      ]
    },
    {
      "cell_type": "code",
      "source": [
        "print(A)"
      ],
      "metadata": {
        "colab": {
          "base_uri": "https://localhost:8080/"
        },
        "id": "xFwVFVOiTzpG",
        "outputId": "f85fda21-476f-41e3-8620-20ac720fabd4"
      },
      "execution_count": null,
      "outputs": [
        {
          "output_type": "stream",
          "name": "stdout",
          "text": [
            "[[ 0  0  9  0  3  0]\n",
            " [ 0  0  7  0  0  0]\n",
            " [ 0 -1  0  0  0  4]\n",
            " [ 2  6  0  8  0  0]]\n"
          ]
        }
      ]
    },
    {
      "cell_type": "code",
      "metadata": {
        "colab": {
          "base_uri": "https://localhost:8080/"
        },
        "id": "MfM7pb8cuGoc",
        "outputId": "152e738a-6d15-46c5-9c0c-f987b15ae6cf"
      },
      "source": [
        "D = sparse.coo_matrix(A, dtype=np.int8)\n",
        "print(D)   # ijv format - triplet format"
      ],
      "execution_count": null,
      "outputs": [
        {
          "output_type": "stream",
          "name": "stdout",
          "text": [
            "  (0, 2)\t9\n",
            "  (0, 4)\t3\n",
            "  (1, 2)\t7\n",
            "  (2, 1)\t-1\n",
            "  (2, 5)\t4\n",
            "  (3, 0)\t2\n",
            "  (3, 1)\t6\n",
            "  (3, 3)\t8\n"
          ]
        }
      ]
    },
    {
      "cell_type": "code",
      "metadata": {
        "colab": {
          "base_uri": "https://localhost:8080/"
        },
        "id": "V0J-0Rzr3kW0",
        "outputId": "c04cdc43-cfec-4a08-e23f-d6f41b207826"
      },
      "source": [
        "print(D.row)\n",
        "print(D.col)\n",
        "print(D.data)\n"
      ],
      "execution_count": null,
      "outputs": [
        {
          "output_type": "stream",
          "name": "stdout",
          "text": [
            "[0 0 1 2 2 3 3 3]\n",
            "[2 4 2 1 5 0 1 3]\n",
            "[ 9  3  7 -1  4  2  6  8]\n"
          ]
        }
      ]
    }
  ]
}